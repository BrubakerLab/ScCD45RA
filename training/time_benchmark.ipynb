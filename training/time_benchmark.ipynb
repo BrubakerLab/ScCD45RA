{
 "cells": [
  {
   "cell_type": "code",
   "execution_count": 1,
   "id": "857d3990-a078-4bb7-918f-aedd851f64de",
   "metadata": {
    "tags": []
   },
   "outputs": [
    {
     "name": "stderr",
     "output_type": "stream",
     "text": [
      "Intel(R) Extension for Scikit-learn* enabled (https://github.com/intel/scikit-learn-intelex)\n"
     ]
    }
   ],
   "source": [
    "import scanpy as sc\n",
    "import numpy as np\n",
    "import scipy as sp\n",
    "import pandas as pd\n",
    "import matplotlib.pyplot as plt\n",
    "from matplotlib import rcParams, colors\n",
    "import seaborn as sns\n",
    "import logging\n",
    "import tensorflow as tf\n",
    "from sklearn.metrics import accuracy_score, precision_score, recall_score, f1_score\n",
    "from sklearn.model_selection import train_test_split, KFold, cross_val_score, LearningCurveDisplay, ShuffleSplit\n",
    "from sklearn.svm import LinearSVC, SVC\n",
    "from sklearn.linear_model import LogisticRegression\n",
    "from keras.models import load_model\n",
    "from skopt import gp_minimize\n",
    "from skopt.space import Real, Integer\n",
    "from skopt.utils import use_named_args\n",
    "from functools import partial\n",
    "from sklearn.ensemble import StackingClassifier\n",
    "from bayes_opt import BayesianOptimization\n",
    "from joblib import dump, load, Parallel, delayed\n",
    "import anndata\n",
    "from scipy.stats import spearmanr\n",
    "from sklearnex import patch_sklearn\n",
    "patch_sklearn()\n",
    "from tensorflow.keras import regularizers\n",
    "from sklearn.preprocessing import StandardScaler\n",
    "from sklearn.pipeline import make_pipeline\n",
    "import skimage\n",
    "import time\n",
    "import subprocess\n",
    "import sys\n",
    "import warnings\n",
    "warnings.filterwarnings(\"ignore\")\n",
    "import pickle as pkl\n",
    "from sccd45ra import cd45ra_infer\n",
    "from rpy2.robjects import pandas2ri\n",
    "import rpy2.rinterface_lib.callbacks\n",
    "import anndata2ri\n",
    "import anndata"
   ]
  },
  {
   "cell_type": "code",
   "execution_count": 2,
   "id": "a20cfee6-7fa2-4de2-b177-c29d9c7aef3c",
   "metadata": {
    "tags": []
   },
   "outputs": [],
   "source": [
    "adata = sc.read_h5ad('C:/Users/Ran/Documents/seurat4_Tonly_clear.h5ad')"
   ]
  },
  {
   "cell_type": "code",
   "execution_count": 3,
   "id": "7c63f3e6-33e4-4432-8f47-9a21dc5855f5",
   "metadata": {
    "tags": []
   },
   "outputs": [
    {
     "data": {
      "text/plain": [
       "(33456, 33538)"
      ]
     },
     "execution_count": 3,
     "metadata": {},
     "output_type": "execute_result"
    }
   ],
   "source": [
    "adata.shape"
   ]
  },
  {
   "cell_type": "code",
   "execution_count": 4,
   "id": "bac91b5f-20b0-4ecc-a7be-7b76603ac219",
   "metadata": {
    "tags": []
   },
   "outputs": [
    {
     "name": "stdout",
     "output_type": "stream",
     "text": [
      "This function takes normalized, log transformed input\n",
      "47.494264125823975\n"
     ]
    }
   ],
   "source": [
    "import time\n",
    "start = time.time()\n",
    "cd45ra_infer(adata)\n",
    "end = time.time()\n",
    "print(end-start)"
   ]
  },
  {
   "cell_type": "code",
   "execution_count": 4,
   "id": "f896430b-eaa4-465f-b5a2-05d13950c36c",
   "metadata": {
    "tags": []
   },
   "outputs": [
    {
     "name": "stdout",
     "output_type": "stream",
     "text": [
      "This function takes normalized, log transformed input\n",
      "48.09172058105469\n"
     ]
    }
   ],
   "source": [
    "import time\n",
    "start = time.time()\n",
    "cd45ra_infer(adata)\n",
    "end = time.time()\n",
    "print(end-start)"
   ]
  },
  {
   "cell_type": "code",
   "execution_count": 4,
   "id": "09e5030a-ffa0-4cdf-a9d4-e6ff3ad7831f",
   "metadata": {
    "tags": []
   },
   "outputs": [
    {
     "name": "stdout",
     "output_type": "stream",
     "text": [
      "This function takes normalized, log transformed input\n",
      "47.27843999862671\n"
     ]
    }
   ],
   "source": [
    "import time\n",
    "start = time.time()\n",
    "cd45ra_infer(adata)\n",
    "end = time.time()\n",
    "print(end-start)"
   ]
  },
  {
   "cell_type": "code",
   "execution_count": 4,
   "id": "d7960e38-4412-4449-8c96-3fd9e3acb390",
   "metadata": {
    "tags": []
   },
   "outputs": [
    {
     "name": "stdout",
     "output_type": "stream",
     "text": [
      "This function takes normalized, log transformed input\n",
      "47.44290256500244\n"
     ]
    }
   ],
   "source": [
    "import time\n",
    "start = time.time()\n",
    "cd45ra_infer(adata)\n",
    "end = time.time()\n",
    "print(end-start)"
   ]
  },
  {
   "cell_type": "code",
   "execution_count": 4,
   "id": "84ab922d-bfe9-4527-8fb8-9e9bb502791d",
   "metadata": {
    "tags": []
   },
   "outputs": [
    {
     "name": "stdout",
     "output_type": "stream",
     "text": [
      "This function takes normalized, log transformed input\n",
      "47.30642223358154\n"
     ]
    }
   ],
   "source": [
    "import time\n",
    "start = time.time()\n",
    "cd45ra_infer(adata)\n",
    "end = time.time()\n",
    "print(end-start)"
   ]
  },
  {
   "cell_type": "code",
   "execution_count": 5,
   "id": "76135e8e-e7f6-426c-8de0-926d2a1e43a3",
   "metadata": {
    "tags": []
   },
   "outputs": [
    {
     "data": {
      "text/plain": [
       "47.52274990081787"
      ]
     },
     "execution_count": 5,
     "metadata": {},
     "output_type": "execute_result"
    }
   ],
   "source": [
    "np.mean([47.494264125823975,47.30642223358154,47.44290256500244,47.27843999862671,48.09172058105469])"
   ]
  }
 ],
 "metadata": {
  "kernelspec": {
   "display_name": "Python 3 (ipykernel)",
   "language": "python",
   "name": "python3"
  },
  "language_info": {
   "codemirror_mode": {
    "name": "ipython",
    "version": 3
   },
   "file_extension": ".py",
   "mimetype": "text/x-python",
   "name": "python",
   "nbconvert_exporter": "python",
   "pygments_lexer": "ipython3",
   "version": "3.8.8"
  }
 },
 "nbformat": 4,
 "nbformat_minor": 5
}
