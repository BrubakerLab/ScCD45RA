{
 "cells": [
  {
   "cell_type": "code",
   "execution_count": 2,
   "id": "e5c80d0d-4c24-4088-bf74-fb0cff605eeb",
   "metadata": {
    "id": "e5c80d0d-4c24-4088-bf74-fb0cff605eeb",
    "tags": []
   },
   "outputs": [
    {
     "name": "stderr",
     "output_type": "stream",
     "text": [
      "Intel(R) Extension for Scikit-learn* enabled (https://github.com/intel/scikit-learn-intelex)\n"
     ]
    }
   ],
   "source": [
    "import scanpy as sc\n",
    "import numpy as np\n",
    "import scipy as sp\n",
    "import pandas as pd\n",
    "import matplotlib.pyplot as plt\n",
    "from matplotlib import rcParams\n",
    "from matplotlib import colors\n",
    "import seaborn as sb\n",
    "import seaborn as sns\n",
    "#import rpy2.rinterface_lib.callbacks\n",
    "import logging\n",
    "import tensorflow as tf\n",
    "from sklearn.metrics import accuracy_score, precision_score, recall_score\n",
    "from sklearn.model_selection import train_test_split, KFold, cross_val_score\n",
    "from sklearn.svm import LinearSVC, SVC\n",
    "from sklearn.linear_model import  LogisticRegression\n",
    "from keras.models import load_model\n",
    "from skopt import gp_minimize\n",
    "from skopt.space import Real, Integer\n",
    "from skopt.utils import use_named_args\n",
    "from functools import partial\n",
    "from sklearn.ensemble import StackingClassifier\n",
    "from bayes_opt import BayesianOptimization\n",
    "#from rpy2.robjects import pandas2ri\n",
    "from joblib import dump, load\n",
    "import pickle\n",
    "#import anndata2ri\n",
    "import anndata\n",
    "from joblib import Parallel, delayed\n",
    "import numpy as np\n",
    "from sklearn.svm import SVC\n",
    "from sklearn.metrics import accuracy_score\n",
    "from sklearn.model_selection import train_test_split\n",
    "import scanpy as sc\n",
    "import pandas as pd\n",
    "\n",
    "import anndata\n",
    "import scipy as sp\n",
    "from scipy.stats import spearmanr\n",
    "from skopt import gp_minimize\n",
    "from skopt.space import Real\n",
    "import importlib\n",
    "from sklearn.metrics import f1_score\n",
    "import warnings\n",
    "warnings.filterwarnings(\"ignore\")\n",
    "import pickle as pkl\n",
    "import subprocess\n",
    "import sys\n",
    "from sklearnex import patch_sklearn \n",
    "patch_sklearn()\n",
    "from tensorflow.keras import regularizers\n",
    "from sklearn.svm import LinearSVC\n",
    "from sklearn.preprocessing import StandardScaler\n",
    "from sklearn.pipeline import make_pipeline\n",
    "import skimage\n",
    "def install(package):\n",
    "    subprocess.check_call([sys.executable, \"-m\", \"pip\", \"install\", package])\n",
    "from sklearn.model_selection import LearningCurveDisplay, ShuffleSplit"
   ]
  },
  {
   "cell_type": "code",
   "execution_count": 3,
   "id": "c32e205f-2876-4737-b752-09b1b762be25",
   "metadata": {
    "id": "c0c3f234-3d58-45ef-84ed-3032b650ff6a",
    "tags": []
   },
   "outputs": [],
   "source": [
    "adata_concat = sc.read_h5ad('GSE144434_processed.h5ad')"
   ]
  },
  {
   "cell_type": "code",
   "execution_count": 26,
   "id": "ec893856-9b1d-4a4e-97be-7ed1b96c0725",
   "metadata": {
    "id": "3e06517f-a2aa-434f-a8c4-f409cefe7340",
    "tags": []
   },
   "outputs": [],
   "source": [
    "#load the model\n",
    "best_linear_svm = load('best_linear_svm.joblib')\n",
    "best_linear_svm_features=pd.read_excel('Used_features.xlsx')['LINEAR  SVM'].dropna().values.tolist()\n",
    "best_rbf_svm = load('best_rbf_svm.joblib')\n",
    "best_rbf_svm_features=pd.read_excel('Used_features.xlsx')['RBF SVM'].dropna().values.tolist()\n",
    "best_lr = load('best_lr.joblib')\n",
    "best_lr_features=pd.read_excel('Used_features.xlsx')['LR'].dropna().values.tolist()\n",
    "best_mlp_linear = load_model('best_mlp_linear.h5')\n",
    "best_stack = load('best_stack.joblib')\n",
    "best_stack_features=pd.read_excel('Used_features.xlsx')['Stack'].dropna().values.tolist()\n",
    "best_mlp_rbf = load_model('best_mlp_rbf.h5')"
   ]
  },
  {
   "cell_type": "code",
   "execution_count": 7,
   "id": "a961f9cd-9786-4957-9846-432dc87d7aa7",
   "metadata": {
    "id": "8367bc3d-b9d0-4e27-87e2-1bc005b67370",
    "tags": []
   },
   "outputs": [],
   "source": [
    "sc.pp.filter_genes(adata_concat, min_cells = 10)"
   ]
  },
  {
   "cell_type": "code",
   "execution_count": 8,
   "id": "e6eb344e-2b73-4dfb-bd2e-f80b0384a9ad",
   "metadata": {
    "id": "e3c41429-bc07-4353-a631-0c1f40b4a074",
    "tags": []
   },
   "outputs": [],
   "source": [
    "genedf = pd.DataFrame(adata_concat.X.A, index = adata_concat.obs_names, columns = adata_concat.var_names)"
   ]
  },
  {
   "cell_type": "code",
   "execution_count": 9,
   "id": "53349781-db84-44da-afb5-5c1a97917418",
   "metadata": {
    "id": "3739d499-b4f8-497f-ac33-e0811e157e02",
    "tags": []
   },
   "outputs": [],
   "source": [
    "X = genedf\n",
    "y = adata_concat.obs['batch'].astype(int)==1\n",
    "X_train, X_val, y_train, y_val = train_test_split(X, y, test_size=0.2, random_state=42)"
   ]
  },
  {
   "cell_type": "code",
   "execution_count": 11,
   "id": "e3a4eee7-5559-4786-80a4-a1765ae26eea",
   "metadata": {
    "id": "e3bce738-0c02-47ca-a32f-b5b6a5e364ec",
    "tags": []
   },
   "outputs": [],
   "source": [
    "adata_train = adata_concat[X_train.index,:]\n",
    "adata_val = adata_concat[X_val.index,:]"
   ]
  },
  {
   "cell_type": "code",
   "execution_count": 10,
   "id": "f8155212-189e-49fc-8327-081f8181e5ff",
   "metadata": {
    "tags": []
   },
   "outputs": [],
   "source": [
    "terms = pd.read_excel('DE_table.xlsx',index_col = 0)"
   ]
  },
  {
   "cell_type": "code",
   "execution_count": 12,
   "id": "3772d9b8-8793-49a1-88f9-b8835dcde26e",
   "metadata": {
    "tags": []
   },
   "outputs": [],
   "source": [
    "corr_w_HNRNPLL = dict()\n",
    "for i in X_train.columns:\n",
    "    corr_val = spearmanr(X_train['HNRNPLL'], X_train[i])\n",
    "    corr_w_HNRNPLL[i] = corr_val\n",
    "corr_w_HNRNPLL_df = pd.DataFrame.from_dict(corr_w_HNRNPLL, orient='index').rename(columns={0: 'statistic', 1: 'pvalue'})"
   ]
  },
  {
   "cell_type": "code",
   "execution_count": 14,
   "id": "4f860418-0d07-4e8f-957f-09e2a489b24b",
   "metadata": {
    "tags": []
   },
   "outputs": [],
   "source": [
    "train_result_table = pd.DataFrame(np.zeros([6,3]))\n",
    "train_result_table.index = ['SVM linear','SVM rbf','LR','stack','MLP linear SVM features','MLP rbf SVM features']\n",
    "train_result_table.columns = ['Accuracy (%)','Precision (%)','Recall (%)']\n",
    "test_result_table = train_result_table.copy()"
   ]
  },
  {
   "cell_type": "code",
   "execution_count": 15,
   "id": "772ce5a0-f998-427b-abfb-79eef13e4198",
   "metadata": {
    "tags": []
   },
   "outputs": [],
   "source": [
    "test_prediction_table = pd.DataFrame(np.zeros([X_val.shape[0],6]))\n",
    "test_prediction_table.columns = ['SVM linear','SVM rbf','LR','stack','MLP linear SVM features','MLP rbf SVM features']\n",
    "train_prediction_table =pd.DataFrame(np.zeros([X_train.shape[0],6]))\n",
    "train_prediction_table.columns = ['SVM linear','SVM rbf','LR','stack','MLP linear SVM features','MLP rbf SVM features']"
   ]
  },
  {
   "cell_type": "code",
   "execution_count": 16,
   "id": "923e3467-99a0-47ee-9b7d-cfc5f850a5c6",
   "metadata": {
    "id": "e3bce738-0c02-47ca-a32f-b5b6a5e364ec",
    "tags": []
   },
   "outputs": [],
   "source": [
    "X_CV = X_train\n",
    "y_CV = y_train\n",
    "folds = 10\n",
    "global folds\n",
    "global X_CV\n",
    "global y_CV\n",
    "global corr_w_HNRNPLL_df\n",
    "global terms"
   ]
  },
  {
   "cell_type": "code",
   "execution_count": 17,
   "id": "12fd4292-4515-404c-b9b9-add73ad750c9",
   "metadata": {
    "tags": []
   },
   "outputs": [],
   "source": [
    "log2foldmask = (terms['normalized_effect'].astype('double') >= 1) | \\\n",
    "                   (terms['normalized_effect'].astype('double') <= -1)\n",
    "pvalmask = terms['q_value'].astype('double') < 0.05\n",
    "DEs = terms['gene_short_name'][log2foldmask & pvalmask]\n",
    "CORRs = corr_w_HNRNPLL_df.loc[corr_w_HNRNPLL_df['pvalue'] < 0.05].sort_values(by='statistic', ascending=False).index[:int(np.floor(corr_w_HNRNPLL_df.shape[0]*0.005))]\n",
    "global DEs\n",
    "global CORRs"
   ]
  },
  {
   "cell_type": "markdown",
   "id": "99514d9f-3d5a-4054-9d2e-e2fbdab3e413",
   "metadata": {},
   "source": [
    "## Data Loading"
   ]
  },
  {
   "cell_type": "code",
   "execution_count": 8,
   "id": "56993ea4-395a-4c08-ac09-991a1fc3deb4",
   "metadata": {},
   "outputs": [],
   "source": [
    "adata_concat = sc.read_h5ad('GSE144434_processed.h5ad')"
   ]
  },
  {
   "cell_type": "code",
   "execution_count": 9,
   "id": "2ecdbc75-f14e-4a8d-8d63-b477e9287245",
   "metadata": {},
   "outputs": [],
   "source": [
    "sc.pp.filter_genes(adata_concat, min_cells = 10)"
   ]
  },
  {
   "cell_type": "code",
   "execution_count": 136,
   "id": "2e2d951c-1ea6-47fa-909e-b3f584c1f5b4",
   "metadata": {},
   "outputs": [],
   "source": [
    "adata_unseen = sc.read_h5ad('GSE150132_processed.h5ad')"
   ]
  },
  {
   "cell_type": "code",
   "execution_count": 138,
   "id": "6f1af272-43a0-433f-8763-d5d028c58f52",
   "metadata": {},
   "outputs": [],
   "source": [
    "cd45raneg_df = pd.DataFrame(adata_unseen.X.A, index = adata_unseen.obs_names, columns = adata_unseen.var_names)"
   ]
  },
  {
   "cell_type": "markdown",
   "id": "eb747ac3-7bfd-4536-92f8-5682fe3b73eb",
   "metadata": {},
   "source": [
    "## Data splitting"
   ]
  },
  {
   "cell_type": "code",
   "execution_count": 10,
   "id": "cf86a521-dcdf-430e-9813-ada441ef5738",
   "metadata": {
    "tags": []
   },
   "outputs": [],
   "source": [
    "genedf = pd.DataFrame(adata_concat.X.A, index = adata_concat.obs_names, columns = adata_concat.var_names)"
   ]
  },
  {
   "cell_type": "code",
   "execution_count": 11,
   "id": "93bc646f-2739-498e-9357-f16f74e32524",
   "metadata": {},
   "outputs": [],
   "source": [
    "X = genedf\n",
    "y = adata_concat.obs['batch'].astype(int)==1\n",
    "X_train, X_val, y_train, y_val = train_test_split(X, y, test_size=0.2, random_state=42)"
   ]
  },
  {
   "cell_type": "code",
   "execution_count": null,
   "id": "619de8d7-9f77-4cbc-8207-9f897d746883",
   "metadata": {},
   "outputs": [],
   "source": [
    "adata_train = adata_concat[X_train.index,:]\n",
    "adata_val = adata_concat[X_val.index,:]"
   ]
  },
  {
   "cell_type": "markdown",
   "id": "04605f57-4120-4c75-bb8f-93bc0a02d481",
   "metadata": {},
   "source": [
    "## Find DE"
   ]
  },
  {
   "cell_type": "code",
   "execution_count": 71,
   "id": "4eaa638a-1bff-41e8-af0a-6d353a19365a",
   "metadata": {},
   "outputs": [],
   "source": [
    "colnames = X_train.index\n",
    "rownames = X_train.columns\n",
    "condition = adata_concat[X_train.index,:].obs['batch']\n",
    "counts = adata_concat[X_train.index,:].layers['counts'].T"
   ]
  },
  {
   "cell_type": "code",
   "execution_count": 73,
   "id": "32c8aa47-c9a9-4515-8a7e-f6171d4f52c6",
   "metadata": {
    "tags": []
   },
   "outputs": [],
   "source": [
    "%%R -i counts -i colnames -i rownames -i condition\n",
    "colnames(counts) = colnames\n",
    "rownames(counts) = rownames\n",
    "\n",
    "srat <- CreateSeuratObject(counts = counts, project = \"transwell\", min.cells = 0, min.features = 0, assay = \"RNA\")\n",
    "\n",
    "srat[[\"condition\"]] = condition"
   ]
  },
  {
   "cell_type": "code",
   "execution_count": 74,
   "id": "7fdfb836-745a-419c-a2da-4f4c3824ef37",
   "metadata": {},
   "outputs": [],
   "source": [
    "%%R\n",
    "library(monocle3)\n",
    "library(SeuratWrappers)\n",
    "cds <- as.cell_data_set(srat)\n",
    "cds <- estimate_size_factors(cds)\n",
    "cds@rowRanges@elementMetadata@listData[[\"gene_short_name\"]] <- rownames(srat[[\"RNA\"]])\n",
    "#cds = preprocess_cds(cds, num_dim = 50)"
   ]
  },
  {
   "cell_type": "code",
   "execution_count": 75,
   "id": "cc36e369-c19f-475d-9a50-58dd5969f69c",
   "metadata": {},
   "outputs": [],
   "source": [
    "%%R\n",
    "gene_fits <- fit_models(cds, model_formula_str = \"~condition\")"
   ]
  },
  {
   "cell_type": "code",
   "execution_count": 76,
   "id": "2cafb386-e2d1-4e43-bb56-bc9706c10d82",
   "metadata": {},
   "outputs": [],
   "source": [
    "%%R\n",
    "fit_coefs <- coefficient_table(gene_fits)"
   ]
  },
  {
   "cell_type": "code",
   "execution_count": 83,
   "id": "2493dc82-b7b8-4cfe-9010-b1c9fe78eb5d",
   "metadata": {
    "tags": []
   },
   "outputs": [],
   "source": [
    "%%R -o terms\n",
    "library(magrittr) # needs to be run every time you start R and want to use %>%\n",
    "library(dplyr)    # alternatively, this also loads %>%\n",
    "\n",
    "terms <- fit_coefs %>% filter(term == \"condition-1\")\n",
    "#colnames(terms)\n",
    "terms = terms %>% select(gene_short_name, term, q_value, normalized_effect)"
   ]
  },
  {
   "cell_type": "code",
   "execution_count": 84,
   "id": "859d97ef-d927-4d64-992b-a91729276f8e",
   "metadata": {},
   "outputs": [],
   "source": [
    "terms['-logQ'] = -np.log10(terms['q_value'])\n",
    "terms = terms[terms['-logQ']>0]"
   ]
  },
  {
   "cell_type": "code",
   "execution_count": null,
   "id": "b584bd69-684d-4868-be17-6f25fc1127ae",
   "metadata": {},
   "outputs": [],
   "source": [
    "terms.to_excel('DE_table.xlsx')"
   ]
  },
  {
   "cell_type": "code",
   "execution_count": 427,
   "id": "7f3e9610-18ed-4d71-89f0-5aedf168131a",
   "metadata": {
    "tags": []
   },
   "outputs": [
    {
     "data": {
      "image/png": "[encoded data removed]",
      "text/plain": [
       "<Figure size 800x800 with 1 Axes>"
      ]
     },
     "metadata": {},
     "output_type": "display_data"
    }
   ],
   "source": [
    "##### Volcano plot of results\n",
    "from adjustText import adjust_text\n",
    "plt.rcParams.update({'font.size': 14, 'font.weight': 'bold','axes.linewidth':2})\n",
    "lowqval_de = terms[np.array(terms['-logQ']>=-np.log10(0.05)) & np.array(abs(terms['normalized_effect'])>=2)]\n",
    "other_de = terms[np.array(terms['-logQ']<-np.log10(0.05)) | np.array(abs(terms['normalized_effect'])<2)]\n",
    "\n",
    "fig, ax = plt.subplots()\n",
    "sb.regplot(other_de['normalized_effect'], other_de['-logQ'], fit_reg=False, scatter_kws={'s':30, 'edgecolors': 'black', 'linewidths': 0.8})\n",
    "sb.regplot(lowqval_de['normalized_effect'], lowqval_de['-logQ'], fit_reg=False, scatter_kws={'s':30,'edgecolors': 'black', 'linewidths': 0.8})\n",
    "ax.set_xlabel(\"Normalized log2 FC\", fontsize=30)\n",
    "ax.set_ylabel(\"-log Q-value\", fontsize=30)\n",
    "ax.tick_params(labelsize=15)\n",
    "ax.set_title('CD45RAneg vs CD45RApos',size = 30)\n",
    "    \n",
    "    \n",
    "    \n",
    "# Label names and positions\n",
    "x = [i*1.1-0.1 for i in lowqval_de['normalized_effect']]\n",
    "y = [i*1.05 for i in lowqval_de['-logQ']]\n",
    "labels = lowqval_de['gene_short_name']\n",
    "\n",
    "# Show only some labels to avoid overcrowding the figure\n",
    "to_remove = np.where(np.array(lowqval_de['gene_short_name'].str.startswith('RP'))|np.array(lowqval_de['gene_short_name'].str.startswith('MT'))\n",
    "                     |(np.array(lowqval_de['normalized_effect']>1)&np.array(lowqval_de['normalized_effect']<2)&np.array(lowqval_de['-logQ']<50))\n",
    "                     |np.array(lowqval_de['-logQ']<25)|(np.array(lowqval_de['normalized_effect']<-1)&np.array(lowqval_de['normalized_effect']>-3)&np.array(lowqval_de['-logQ']<50)))\n",
    "labels = [\"\" if i in to_remove[0] else lab for i,lab in enumerate(labels) ]\n",
    "texts = []\n",
    "for i,txt in enumerate(labels):\n",
    "    texts.append(ax.text(x[i], y[i], txt,size = 15, color= 'red', weight = 'bold'))\n",
    "\n",
    "adjust_text(texts)\n",
    "#ax.xaxis.label.set_fontweight('bold')\n",
    "#ax.yaxis.label.set_fontweight('bold')\n",
    "#ax.yaxis.label.set_fontsize(22)\n",
    "    #ax.annotate(txt, (x[i], y[i]),size = 10,bbox=dict(boxstyle=\"Square,pad=0.3\", fc=\"orange\", ec=\"b\", lw=2, alpha = 0.6))\n",
    "    #plt.xlim([-0.6,0.65])\n",
    "plt.axhline(y=-np.log10(0.05), color=\"orange\", linestyle=\"--\")\n",
    "plt.axvline(x = -2, color=\"orange\", linestyle=\"--\")\n",
    "plt.axvline(x = 2, color=\"orange\", linestyle=\"--\")\n",
    "plt.savefig('CD45RAnegtoposvolcano.png',bbox_inches='tight')"
   ]
  },
  {
   "cell_type": "markdown",
   "id": "b0aad97e-b9a7-4158-8c8f-9c33bdce88ff",
   "metadata": {
    "id": "954f11f1-2b18-4178-a0b0-ecbf061dad9c",
    "tags": []
   },
   "source": [
    "### Linear"
   ]
  },
  {
   "cell_type": "code",
   "execution_count": null,
   "id": "c3c6c813-bf29-478e-996d-9d8b325cde4b",
   "metadata": {
    "id": "567b0dfa-2d49-437b-bded-9ff31798aadd",
    "outputId": "d471d6ea-8492-4029-f6d3-133e365a6bfb",
    "tags": []
   },
   "outputs": [],
   "source": [
    "def train_svm_single_fold(X_CV, y_CV, DE_thresh_up, DE_thresh_down, biog_thresh, svm_C):\n",
    "    patch_sklearn()\n",
    "    _X_train, _X_val, _y_train, _y_val = train_test_split(X_CV, y_CV, test_size=0.2)\n",
    "    # Feature selection 1\n",
    "    log2foldmask = (terms['normalized_effect'].astype('double') >= DE_thresh_up) | \\\n",
    "                   (terms['normalized_effect'].astype('double') <= DE_thresh_down)\n",
    "    pvalmask = terms['q_value'].astype('double') < 0.05\n",
    "    DEs = terms['gene_short_name'][log2foldmask & pvalmask]\n",
    "    # Feature selection 2\n",
    "    CORRs = corr_w_HNRNPLL_df.loc[corr_w_HNRNPLL_df['pvalue'] < 0.05].sort_values(by='statistic', ascending=False).index[:int(np.floor(corr_w_HNRNPLL_df.shape[0]*biog_thresh))]\n",
    "    features = np.union1d(DEs, CORRs)\n",
    "    _X_CV = _X_train[features]\n",
    "    svm_clf = make_pipeline(StandardScaler(), LinearSVC(C=svm_C, dual=False, max_iter=1000, random_state=42))\n",
    "    svm_clf.fit(_X_CV,_y_train)\n",
    "    _y_pred = svm_clf.predict(_X_val[features])\n",
    "    accuracy = accuracy_score(_y_val, _y_pred)\n",
    "    return accuracy\n",
    "\n",
    "def modi_svm_cv(result):\n",
    "    DE_thresh_up = result[0]\n",
    "    DE_thresh_down = result[1]\n",
    "    biog_thresh = result[2]\n",
    "    svm_C = result[3]\n",
    "    accuracys = Parallel(n_jobs=-1)(delayed(train_svm_single_fold)(X_CV, y_CV, DE_thresh_up, DE_thresh_down, biog_thresh, svm_C) for _ in range(folds))\n",
    "    accuracy_cv = np.mean(accuracys)\n",
    "    error = 1 - accuracy_cv\n",
    "    return error\n",
    "\n",
    "param_space = [\n",
    "    Real(1, 4, name='DE_thresh_up'),\n",
    "    Real(-4, -1, name='DE_thresh_down'),\n",
    "    Real(1e-6, 0.1, name='biog_thresh'),\n",
    "    Real(1e-6, 1, name='svm_C')\n",
    "]"
   ]
  },
  {
   "cell_type": "code",
   "execution_count": null,
   "id": "a00bde22-b56e-474e-ae5e-d9dcbb1fc10e",
   "metadata": {
    "id": "3739d499-b4f8-497f-ac33-e0811e157e02",
    "tags": []
   },
   "outputs": [],
   "source": [
    "result_linear = gp_minimize(modi_svm_cv, dimensions=param_space, n_calls=50, random_state=42, n_jobs=-1)"
   ]
  },
  {
   "cell_type": "code",
   "execution_count": null,
   "id": "2c1efa1e-49d2-418f-a5ba-86f30a1ac3cd",
   "metadata": {
    "tags": []
   },
   "outputs": [],
   "source": [
    "log2foldmask = (terms['normalized_effect'].astype('double') >= result_linear.x[0]) | \\\n",
    "                   (terms['normalized_effect'].astype('double') <= result_linear.x[1])\n",
    "pvalmask = terms['q_value'].astype('double') < 0.05\n",
    "DEs = terms['gene_short_name'][log2foldmask & pvalmask]\n",
    "CORRs = corr_w_HNRNPLL_df.loc[corr_w_HNRNPLL_df['pvalue'] < 0.05].sort_values(by='statistic', ascending=False).index[:int(np.floor(corr_w_HNRNPLL_df.shape[0]*result_linear.x[2]))]\n",
    "best_linear_svm_features = np.union1d(DEs, CORRs)"
   ]
  },
  {
   "cell_type": "code",
   "execution_count": null,
   "id": "f559e3ab-7d64-47d6-b9e7-4fb970059a5e",
   "metadata": {
    "tags": []
   },
   "outputs": [],
   "source": [
    "best_linear_svm = make_pipeline(StandardScaler(), LinearSVC(C=result_linear.x[3], dual=False, max_iter=1000, random_state=42))"
   ]
  },
  {
   "cell_type": "code",
   "execution_count": null,
   "id": "67d1ee48-85bf-4ef6-a4a8-2dd4bbd8361b",
   "metadata": {},
   "outputs": [],
   "source": [
    "best_linear_svm.fit(X_train[best_linear_svm_features], y_train)"
   ]
  },
  {
   "cell_type": "code",
   "execution_count": 27,
   "id": "28ca63c5-7338-48fa-83a3-08bc0f03a014",
   "metadata": {
    "id": "c034593d-8013-4e4a-b7d4-7af5370a4118",
    "tags": []
   },
   "outputs": [],
   "source": [
    "y_pred_val_linear = best_linear_svm.predict(X_val[best_linear_svm_features])\n",
    "test_result_table.loc['SVM linear', 'Accuracy (%)'] = np.round(accuracy_score(y_val, y_pred_val_linear)*100,3)\n",
    "test_result_table.loc['SVM linear', 'Precision (%)'] = np.round(precision_score(y_val, y_pred_val_linear)*100,3)\n",
    "test_result_table.loc['SVM linear', 'Recall (%)'] = np.round(recall_score(y_val, y_pred_val_linear)*100,3)"
   ]
  },
  {
   "cell_type": "code",
   "execution_count": 28,
   "id": "ff136625-3d05-4f5c-a29e-b0007a3c9900",
   "metadata": {
    "id": "9d49621f-9398-498d-a895-157e550344cd",
    "outputId": "0d2f37fd-5db5-4765-e9cb-1865741cfa19",
    "tags": []
   },
   "outputs": [],
   "source": [
    "y_pred_train_linear = best_linear_svm.predict(X_train[best_linear_svm_features])\n",
    "train_result_table.loc['SVM linear', 'Accuracy (%)'] = np.round(accuracy_score(y_train, y_pred_train_linear)*100,3)\n",
    "train_result_table.loc['SVM linear', 'Precision (%)'] = np.round(precision_score(y_train, y_pred_train_linear)*100,3)\n",
    "train_result_table.loc['SVM linear', 'Recall (%)'] = np.round(recall_score(y_train, y_pred_train_linear)*100,3)"
   ]
  },
  {
   "cell_type": "code",
   "execution_count": 29,
   "id": "002d3d0d-2596-4b49-9128-64f1158062e2",
   "metadata": {
    "tags": []
   },
   "outputs": [],
   "source": [
    "test_prediction_table['SVM linear'] = y_pred_val_linear\n",
    "train_prediction_table['SVM linear'] = y_pred_train_linear"
   ]
  },
  {
   "cell_type": "code",
   "execution_count": null,
   "id": "139cef10-13a3-4143-910b-5b539599554f",
   "metadata": {
    "id": "fe7df149-10bb-4608-b177-a50e727482c1",
    "tags": []
   },
   "outputs": [],
   "source": [
    "#save the model and features\n",
    "dump(best_linear_svm, 'best_linear_svm.joblib')\n",
    "pd.DataFrame(best_linear_svm_features).to_excel('best_linear_svm_features.xlsx')"
   ]
  },
  {
   "cell_type": "code",
   "execution_count": 30,
   "id": "1201afd8-51ff-4411-a076-1506d0b25902",
   "metadata": {
    "tags": []
   },
   "outputs": [
    {
     "data": {
      "text/html": [
       "<div>\n",
       "<style scoped>\n",
       "    .dataframe tbody tr th:only-of-type {\n",
       "        vertical-align: middle;\n",
       "    }\n",
       "\n",
       "    .dataframe tbody tr th {\n",
       "        vertical-align: top;\n",
       "    }\n",
       "\n",
       "    .dataframe thead th {\n",
       "        text-align: right;\n",
       "    }\n",
       "</style>\n",
       "<table border=\"1\" class=\"dataframe\">\n",
       "  <thead>\n",
       "    <tr style=\"text-align: right;\">\n",
       "      <th></th>\n",
       "      <th>Accuracy (%)</th>\n",
       "      <th>Precision (%)</th>\n",
       "      <th>Recall (%)</th>\n",
       "    </tr>\n",
       "  </thead>\n",
       "  <tbody>\n",
       "    <tr>\n",
       "      <th>SVM linear</th>\n",
       "      <td>92.891</td>\n",
       "      <td>92.381</td>\n",
       "      <td>87.651</td>\n",
       "    </tr>\n",
       "    <tr>\n",
       "      <th>SVM rbf</th>\n",
       "      <td>0.000</td>\n",
       "      <td>0.000</td>\n",
       "      <td>0.000</td>\n",
       "    </tr>\n",
       "    <tr>\n",
       "      <th>LR</th>\n",
       "      <td>0.000</td>\n",
       "      <td>0.000</td>\n",
       "      <td>0.000</td>\n",
       "    </tr>\n",
       "    <tr>\n",
       "      <th>stack</th>\n",
       "      <td>0.000</td>\n",
       "      <td>0.000</td>\n",
       "      <td>0.000</td>\n",
       "    </tr>\n",
       "    <tr>\n",
       "      <th>MLP linear SVM features</th>\n",
       "      <td>0.000</td>\n",
       "      <td>0.000</td>\n",
       "      <td>0.000</td>\n",
       "    </tr>\n",
       "    <tr>\n",
       "      <th>MLP rbf SVM features</th>\n",
       "      <td>0.000</td>\n",
       "      <td>0.000</td>\n",
       "      <td>0.000</td>\n",
       "    </tr>\n",
       "  </tbody>\n",
       "</table>\n",
       "</div>"
      ],
      "text/plain": [
       "                         Accuracy (%)  Precision (%)  Recall (%)\n",
       "SVM linear                     92.891         92.381      87.651\n",
       "SVM rbf                         0.000          0.000       0.000\n",
       "LR                              0.000          0.000       0.000\n",
       "stack                           0.000          0.000       0.000\n",
       "MLP linear SVM features         0.000          0.000       0.000\n",
       "MLP rbf SVM features            0.000          0.000       0.000"
      ]
     },
     "execution_count": 30,
     "metadata": {},
     "output_type": "execute_result"
    }
   ],
   "source": [
    "train_result_table"
   ]
  },
  {
   "cell_type": "code",
   "execution_count": 31,
   "id": "77757994-0967-4377-b880-bfc319d0ef4d",
   "metadata": {
    "tags": []
   },
   "outputs": [
    {
     "data": {
      "text/html": [
       "<div>\n",
       "<style scoped>\n",
       "    .dataframe tbody tr th:only-of-type {\n",
       "        vertical-align: middle;\n",
       "    }\n",
       "\n",
       "    .dataframe tbody tr th {\n",
       "        vertical-align: top;\n",
       "    }\n",
       "\n",
       "    .dataframe thead th {\n",
       "        text-align: right;\n",
       "    }\n",
       "</style>\n",
       "<table border=\"1\" class=\"dataframe\">\n",
       "  <thead>\n",
       "    <tr style=\"text-align: right;\">\n",
       "      <th></th>\n",
       "      <th>Accuracy (%)</th>\n",
       "      <th>Precision (%)</th>\n",
       "      <th>Recall (%)</th>\n",
       "    </tr>\n",
       "  </thead>\n",
       "  <tbody>\n",
       "    <tr>\n",
       "      <th>SVM linear</th>\n",
       "      <td>86.589</td>\n",
       "      <td>88.559</td>\n",
       "      <td>76.277</td>\n",
       "    </tr>\n",
       "    <tr>\n",
       "      <th>SVM rbf</th>\n",
       "      <td>0.000</td>\n",
       "      <td>0.000</td>\n",
       "      <td>0.000</td>\n",
       "    </tr>\n",
       "    <tr>\n",
       "      <th>LR</th>\n",
       "      <td>0.000</td>\n",
       "      <td>0.000</td>\n",
       "      <td>0.000</td>\n",
       "    </tr>\n",
       "    <tr>\n",
       "      <th>stack</th>\n",
       "      <td>0.000</td>\n",
       "      <td>0.000</td>\n",
       "      <td>0.000</td>\n",
       "    </tr>\n",
       "    <tr>\n",
       "      <th>MLP linear SVM features</th>\n",
       "      <td>0.000</td>\n",
       "      <td>0.000</td>\n",
       "      <td>0.000</td>\n",
       "    </tr>\n",
       "    <tr>\n",
       "      <th>MLP rbf SVM features</th>\n",
       "      <td>0.000</td>\n",
       "      <td>0.000</td>\n",
       "      <td>0.000</td>\n",
       "    </tr>\n",
       "  </tbody>\n",
       "</table>\n",
       "</div>"
      ],
      "text/plain": [
       "                         Accuracy (%)  Precision (%)  Recall (%)\n",
       "SVM linear                     86.589         88.559      76.277\n",
       "SVM rbf                         0.000          0.000       0.000\n",
       "LR                              0.000          0.000       0.000\n",
       "stack                           0.000          0.000       0.000\n",
       "MLP linear SVM features         0.000          0.000       0.000\n",
       "MLP rbf SVM features            0.000          0.000       0.000"
      ]
     },
     "execution_count": 31,
     "metadata": {},
     "output_type": "execute_result"
    }
   ],
   "source": [
    "test_result_table"
   ]
  },
  {
   "cell_type": "code",
   "execution_count": 317,
   "id": "e98ba5de-36ce-4b18-ab17-ce788ccdce4e",
   "metadata": {},
   "outputs": [],
   "source": [
    "#format unseen\n",
    "unseen_df = pd.DataFrame()\n",
    "for i in best_linear_svm_features:\n",
    "    if i in cd45raneg_df.columns:\n",
    "        unseen_df[i] = cd45raneg_df[i]\n",
    "    else:\n",
    "        unseen_df[i] = np.zeros(cd45raneg_df.shape[0])"
   ]
  },
  {
   "cell_type": "code",
   "execution_count": 318,
   "id": "667ccacb-06e5-478b-8a0d-ebb81adb9597",
   "metadata": {},
   "outputs": [
    {
     "name": "stdout",
     "output_type": "stream",
     "text": [
      "Accuracy: 0.9959971980386271\n"
     ]
    }
   ],
   "source": [
    "#predict the unseen\n",
    "y_pred_unseen = best_linear_svm.predict(unseen_df)\n",
    "accuracy = accuracy_score(np.zeros([cd45raneg_df.shape[0],1]), y_pred_unseen)\n",
    "\n",
    "print(\"Accuracy:\", accuracy)"
   ]
  },
  {
   "cell_type": "code",
   "execution_count": 319,
   "id": "11f34f68-3c50-4b31-a891-a7fb37a51e36",
   "metadata": {},
   "outputs": [],
   "source": [
    "adata_unseen.obs['linear_svm'] = y_pred_unseen\n",
    "adata_unseen.obs['linear_svm']=adata_unseen.obs['linear_svm'].astype('str')"
   ]
  },
  {
   "cell_type": "markdown",
   "id": "e034db72-054b-4635-973a-8ca493629610",
   "metadata": {
    "tags": []
   },
   "source": [
    "### RBF"
   ]
  },
  {
   "cell_type": "code",
   "execution_count": null,
   "id": "0ac65ee9-8a42-44d4-ba71-d86ffab79a52",
   "metadata": {
    "id": "567b0dfa-2d49-437b-bded-9ff31798aadd",
    "outputId": "d471d6ea-8492-4029-f6d3-133e365a6bfb",
    "tags": []
   },
   "outputs": [],
   "source": [
    "def train_svm_single_fold(X_CV, y_CV, DE_thresh_up, DE_thresh_down, biog_thresh, svm_C, svm_gamma):\n",
    "    patch_sklearn()\n",
    "    _X_train, _X_val, _y_train, _y_val = train_test_split(X_CV, y_CV, test_size=0.3)\n",
    "    # Feature selection 1\n",
    "    log2foldmask = (terms['normalized_effect'].astype('double') >= DE_thresh_up) | \\\n",
    "                   (terms['normalized_effect'].astype('double') <= DE_thresh_down)\n",
    "    pvalmask = terms['q_value'].astype('double') < 0.05\n",
    "    DEs = terms['gene_short_name'][log2foldmask & pvalmask]\n",
    "    # Feature selection 2\n",
    "    CORRs = corr_w_HNRNPLL_df.loc[corr_w_HNRNPLL_df['pvalue'] < 0.05].sort_values(by='statistic', ascending=False).index[:int(np.floor(corr_w_HNRNPLL_df.shape[0]*biog_thresh))]\n",
    "    features = np.union1d(DEs, CORRs)\n",
    "    _X_CV = _X_train[features]\n",
    "    svm_clf = SVC(C=svm_C, gamma=svm_gamma, kernel='rbf', probability=True, random_state=42)\n",
    "    svm_clf.fit(_X_CV,_y_train)\n",
    "    _y_pred = svm_clf.predict(_X_val[features])\n",
    "    accuracy = accuracy_score(_y_val, _y_pred)\n",
    "    return accuracy\n",
    "\n",
    "def modi_svm_cv(result):\n",
    "    DE_thresh_up = result[0]\n",
    "    DE_thresh_down = result[1]\n",
    "    biog_thresh = result[2]\n",
    "    svm_C = result[3]\n",
    "    svm_gamma = result[4]\n",
    "    accuracys = Parallel(n_jobs=-1)(delayed(train_svm_single_fold)(X_CV, y_CV, DE_thresh_up, DE_thresh_down, biog_thresh, svm_C,svm_gamma) for _ in range(folds))\n",
    "    accuracy_cv = np.mean(accuracys)\n",
    "    error = 1 - accuracy_cv\n",
    "    return error\n",
    "\n",
    "param_space = [\n",
    "    Real(1.5, 4, name='DE_thresh_up'),\n",
    "    Real(-4, -1.5, name='DE_thresh_down'),\n",
    "    Real(1e-6, 0.05, name='biog_thresh'),\n",
    "    Real(1e-6, 1, name='svm_C'),\n",
    "    Real(1e-6, 2, name='svm_gamma')\n",
    "]"
   ]
  },
  {
   "cell_type": "code",
   "execution_count": null,
   "id": "6b981fd9-11b1-4ded-861f-7b7c0e2f02b1",
   "metadata": {
    "id": "3739d499-b4f8-497f-ac33-e0811e157e02",
    "tags": []
   },
   "outputs": [],
   "source": [
    "result_rbf = gp_minimize(modi_svm_cv, dimensions=param_space, n_calls=100, random_state=42, n_jobs=-1)"
   ]
  },
  {
   "cell_type": "code",
   "execution_count": null,
   "id": "6c573d4c-2ddd-4af8-b826-d30eaac3090e",
   "metadata": {
    "tags": []
   },
   "outputs": [],
   "source": [
    "best_rbf_svm_features = np.union1d(DEs, CORRs)"
   ]
  },
  {
   "cell_type": "code",
   "execution_count": null,
   "id": "fcb4db24-3f3e-4c1e-ac10-00255d1922b4",
   "metadata": {
    "tags": []
   },
   "outputs": [],
   "source": [
    "log2foldmask = (terms['normalized_effect'].astype('double') >= result_rbf.x[0]) | \\\n",
    "                   (terms['normalized_effect'].astype('double') <= result_rbf.x[1])\n",
    "pvalmask = terms['q_value'].astype('double') < 0.05\n",
    "DEs = terms['gene_short_name'][log2foldmask & pvalmask]\n",
    "CORRs = corr_w_HNRNPLL_df.loc[corr_w_HNRNPLL_df['pvalue'] < 0.05].sort_values(by='statistic', ascending=False).index[:int(np.floor(corr_w_HNRNPLL_df.shape[0]*result_rbf.x[2]))]\n",
    "best_rbf_svm_features = np.union1d(DEs, CORRs)"
   ]
  },
  {
   "cell_type": "code",
   "execution_count": null,
   "id": "9aba59d9-d83b-4b5f-abbc-147ba8ac8dac",
   "metadata": {
    "tags": []
   },
   "outputs": [],
   "source": [
    "len(best_rbf_svm_features)"
   ]
  },
  {
   "cell_type": "code",
   "execution_count": null,
   "id": "1662b77d-0347-4a34-8e0b-5040662db8c8",
   "metadata": {
    "tags": []
   },
   "outputs": [],
   "source": [
    "best_rbf_svm = SVC(C=result_rbf.x[3], gamma=result_rbf.x[4], kernel='rbf', max_iter=1000, random_state=42)"
   ]
  },
  {
   "cell_type": "code",
   "execution_count": null,
   "id": "daa7b3e0-4b9a-46a0-a949-8b4017e53268",
   "metadata": {},
   "outputs": [],
   "source": [
    "best_rbf_svm.fit(X_train[best_rbf_svm_features], y_train)"
   ]
  },
  {
   "cell_type": "code",
   "execution_count": 32,
   "id": "33c8e9d9-458f-49a2-b824-d9f882183cc7",
   "metadata": {
    "id": "c034593d-8013-4e4a-b7d4-7af5370a4118",
    "tags": []
   },
   "outputs": [],
   "source": [
    "y_pred_val_rbf = best_rbf_svm.predict(X_val[best_rbf_svm_features])\n",
    "test_result_table.loc['SVM rbf', 'Accuracy (%)'] = np.round(accuracy_score(y_val, y_pred_val_rbf)*100,3)\n",
    "test_result_table.loc['SVM rbf', 'Precision (%)'] = np.round(precision_score(y_val, y_pred_val_rbf)*100,3)\n",
    "test_result_table.loc['SVM rbf', 'Recall (%)'] = np.round(recall_score(y_val, y_pred_val_rbf)*100,3)"
   ]
  },
  {
   "cell_type": "code",
   "execution_count": 33,
   "id": "82ba0fec-aef5-40d6-9f3c-d6ebf6ce0ec0",
   "metadata": {
    "id": "9d49621f-9398-498d-a895-157e550344cd",
    "outputId": "0d2f37fd-5db5-4765-e9cb-1865741cfa19",
    "tags": []
   },
   "outputs": [],
   "source": [
    "y_pred_train_rbf = best_rbf_svm.predict(X_train[best_rbf_svm_features])\n",
    "train_result_table.loc['SVM rbf', 'Accuracy (%)'] = np.round(accuracy_score(y_train, y_pred_train_rbf)*100,3)\n",
    "train_result_table.loc['SVM rbf', 'Precision (%)'] = np.round(precision_score(y_train, y_pred_train_rbf)*100,3)\n",
    "train_result_table.loc['SVM rbf', 'Recall (%)'] = np.round(recall_score(y_train, y_pred_train_rbf)*100,3)"
   ]
  },
  {
   "cell_type": "code",
   "execution_count": 34,
   "id": "7a495bc9-af21-4554-bd93-54743bed04ba",
   "metadata": {
    "tags": []
   },
   "outputs": [],
   "source": [
    "test_prediction_table['SVM rbf'] = y_pred_val_rbf\n",
    "train_prediction_table['SVM rbf'] = y_pred_train_rbf"
   ]
  },
  {
   "cell_type": "code",
   "execution_count": null,
   "id": "c974e339-0930-4446-8464-762c651f3e20",
   "metadata": {
    "id": "fe7df149-10bb-4608-b177-a50e727482c1",
    "tags": []
   },
   "outputs": [],
   "source": [
    "#save the model and features\n",
    "dump(best_rbf_svm, 'best_rbf_svm.joblib')\n",
    "pd.DataFrame(best_rbf_svm_features).to_excel('best_rbf_svm_features.xlsx')"
   ]
  },
  {
   "cell_type": "code",
   "execution_count": 35,
   "id": "9a6d8850-842a-40ae-97d0-8e7dd393f434",
   "metadata": {
    "tags": []
   },
   "outputs": [
    {
     "data": {
      "text/html": [
       "<div>\n",
       "<style scoped>\n",
       "    .dataframe tbody tr th:only-of-type {\n",
       "        vertical-align: middle;\n",
       "    }\n",
       "\n",
       "    .dataframe tbody tr th {\n",
       "        vertical-align: top;\n",
       "    }\n",
       "\n",
       "    .dataframe thead th {\n",
       "        text-align: right;\n",
       "    }\n",
       "</style>\n",
       "<table border=\"1\" class=\"dataframe\">\n",
       "  <thead>\n",
       "    <tr style=\"text-align: right;\">\n",
       "      <th></th>\n",
       "      <th>Accuracy (%)</th>\n",
       "      <th>Precision (%)</th>\n",
       "      <th>Recall (%)</th>\n",
       "    </tr>\n",
       "  </thead>\n",
       "  <tbody>\n",
       "    <tr>\n",
       "      <th>SVM linear</th>\n",
       "      <td>92.891</td>\n",
       "      <td>92.381</td>\n",
       "      <td>87.651</td>\n",
       "    </tr>\n",
       "    <tr>\n",
       "      <th>SVM rbf</th>\n",
       "      <td>99.453</td>\n",
       "      <td>99.596</td>\n",
       "      <td>98.896</td>\n",
       "    </tr>\n",
       "    <tr>\n",
       "      <th>LR</th>\n",
       "      <td>0.000</td>\n",
       "      <td>0.000</td>\n",
       "      <td>0.000</td>\n",
       "    </tr>\n",
       "    <tr>\n",
       "      <th>stack</th>\n",
       "      <td>0.000</td>\n",
       "      <td>0.000</td>\n",
       "      <td>0.000</td>\n",
       "    </tr>\n",
       "    <tr>\n",
       "      <th>MLP linear SVM features</th>\n",
       "      <td>0.000</td>\n",
       "      <td>0.000</td>\n",
       "      <td>0.000</td>\n",
       "    </tr>\n",
       "    <tr>\n",
       "      <th>MLP rbf SVM features</th>\n",
       "      <td>0.000</td>\n",
       "      <td>0.000</td>\n",
       "      <td>0.000</td>\n",
       "    </tr>\n",
       "  </tbody>\n",
       "</table>\n",
       "</div>"
      ],
      "text/plain": [
       "                         Accuracy (%)  Precision (%)  Recall (%)\n",
       "SVM linear                     92.891         92.381      87.651\n",
       "SVM rbf                        99.453         99.596      98.896\n",
       "LR                              0.000          0.000       0.000\n",
       "stack                           0.000          0.000       0.000\n",
       "MLP linear SVM features         0.000          0.000       0.000\n",
       "MLP rbf SVM features            0.000          0.000       0.000"
      ]
     },
     "execution_count": 35,
     "metadata": {},
     "output_type": "execute_result"
    }
   ],
   "source": [
    "train_result_table"
   ]
  },
  {
   "cell_type": "code",
   "execution_count": 36,
   "id": "835562f0-7e0b-431f-8d15-d98e51079c1d",
   "metadata": {
    "tags": []
   },
   "outputs": [
    {
     "data": {
      "text/html": [
       "<div>\n",
       "<style scoped>\n",
       "    .dataframe tbody tr th:only-of-type {\n",
       "        vertical-align: middle;\n",
       "    }\n",
       "\n",
       "    .dataframe tbody tr th {\n",
       "        vertical-align: top;\n",
       "    }\n",
       "\n",
       "    .dataframe thead th {\n",
       "        text-align: right;\n",
       "    }\n",
       "</style>\n",
       "<table border=\"1\" class=\"dataframe\">\n",
       "  <thead>\n",
       "    <tr style=\"text-align: right;\">\n",
       "      <th></th>\n",
       "      <th>Accuracy (%)</th>\n",
       "      <th>Precision (%)</th>\n",
       "      <th>Recall (%)</th>\n",
       "    </tr>\n",
       "  </thead>\n",
       "  <tbody>\n",
       "    <tr>\n",
       "      <th>SVM linear</th>\n",
       "      <td>86.589</td>\n",
       "      <td>88.559</td>\n",
       "      <td>76.277</td>\n",
       "    </tr>\n",
       "    <tr>\n",
       "      <th>SVM rbf</th>\n",
       "      <td>89.942</td>\n",
       "      <td>90.196</td>\n",
       "      <td>83.942</td>\n",
       "    </tr>\n",
       "    <tr>\n",
       "      <th>LR</th>\n",
       "      <td>0.000</td>\n",
       "      <td>0.000</td>\n",
       "      <td>0.000</td>\n",
       "    </tr>\n",
       "    <tr>\n",
       "      <th>stack</th>\n",
       "      <td>0.000</td>\n",
       "      <td>0.000</td>\n",
       "      <td>0.000</td>\n",
       "    </tr>\n",
       "    <tr>\n",
       "      <th>MLP linear SVM features</th>\n",
       "      <td>0.000</td>\n",
       "      <td>0.000</td>\n",
       "      <td>0.000</td>\n",
       "    </tr>\n",
       "    <tr>\n",
       "      <th>MLP rbf SVM features</th>\n",
       "      <td>0.000</td>\n",
       "      <td>0.000</td>\n",
       "      <td>0.000</td>\n",
       "    </tr>\n",
       "  </tbody>\n",
       "</table>\n",
       "</div>"
      ],
      "text/plain": [
       "                         Accuracy (%)  Precision (%)  Recall (%)\n",
       "SVM linear                     86.589         88.559      76.277\n",
       "SVM rbf                        89.942         90.196      83.942\n",
       "LR                              0.000          0.000       0.000\n",
       "stack                           0.000          0.000       0.000\n",
       "MLP linear SVM features         0.000          0.000       0.000\n",
       "MLP rbf SVM features            0.000          0.000       0.000"
      ]
     },
     "execution_count": 36,
     "metadata": {},
     "output_type": "execute_result"
    }
   ],
   "source": [
    "test_result_table"
   ]
  },
  {
   "cell_type": "code",
   "execution_count": 322,
   "id": "05db85b2-9c2f-427b-8e1a-df6bb2ac6f13",
   "metadata": {},
   "outputs": [],
   "source": [
    "#format unseen\n",
    "unseen_df = pd.DataFrame()\n",
    "for i in best_rbf_svm_features:\n",
    "    if i in cd45raneg_df.columns:\n",
    "        unseen_df[i] = cd45raneg_df[i]\n",
    "    else:\n",
    "        unseen_df[i] = np.zeros(cd45raneg_df.shape[0])"
   ]
  },
  {
   "cell_type": "code",
   "execution_count": 323,
   "id": "3905e239-b1b6-49da-ad8d-c350b699fd21",
   "metadata": {},
   "outputs": [
    {
     "name": "stdout",
     "output_type": "stream",
     "text": [
      "Accuracy: 0.9996497548283798\n"
     ]
    }
   ],
   "source": [
    "#predict the unseen\n",
    "y_pred_unseen = best_rbf_svm.predict(unseen_df)\n",
    "accuracy = accuracy_score(np.zeros([cd45raneg_df.shape[0],1]), y_pred_unseen)\n",
    "\n",
    "print(\"Accuracy:\", accuracy)"
   ]
  },
  {
   "cell_type": "code",
   "execution_count": 324,
   "id": "e5210991-3743-4bf0-8962-0bf27da9fba6",
   "metadata": {},
   "outputs": [],
   "source": [
    "adata_unseen.obs['rbf_svm'] = y_pred_unseen\n",
    "adata_unseen.obs['rbf_svm']=adata_unseen.obs['rbf_svm'].astype('str')"
   ]
  },
  {
   "cell_type": "markdown",
   "id": "4317d8a5-926c-4130-97de-7a2c84bbbf17",
   "metadata": {
    "tags": []
   },
   "source": [
    "### LR"
   ]
  },
  {
   "cell_type": "code",
   "execution_count": null,
   "id": "63195272-edf7-4b58-8a6b-ee6b21f13df0",
   "metadata": {
    "tags": []
   },
   "outputs": [],
   "source": [
    "def train_lr_single_fold(X_CV, y_CV, DE_thresh_up, DE_thresh_down, biog_thresh, log_reg_C):\n",
    "    patch_sklearn()\n",
    "    _X_train, _X_val, _y_train, _y_val = train_test_split(X_CV, y_CV, test_size=0.2)\n",
    "    # Feature selection 1\n",
    "    log2foldmask = (terms['normalized_effect'].astype('double') >= DE_thresh_up) | \\\n",
    "                   (terms['normalized_effect'].astype('double') <= DE_thresh_down)\n",
    "    pvalmask = terms['q_value'].astype('double') < 0.05\n",
    "    DEs = terms['gene_short_name'][log2foldmask & pvalmask]\n",
    "    # Feature selection 2\n",
    "    CORRs = corr_w_HNRNPLL_df.loc[corr_w_HNRNPLL_df['pvalue'] < 0.05].sort_values(by='statistic', ascending=False).index[:int(np.floor(corr_w_HNRNPLL_df.shape[0]*biog_thresh))]\n",
    "    features = np.union1d(DEs, CORRs)\n",
    "    _X_CV = _X_train[features]\n",
    "    lr_clf = LogisticRegression(solver='saga', C=log_reg_C, penalty='l2', random_state=42)\n",
    "    lr_clf.fit(_X_CV,_y_train)\n",
    "    _y_pred = lr_clf.predict(_X_val[features])\n",
    "    accuracy = accuracy_score(_y_val, _y_pred)\n",
    "    return accuracy\n",
    "\n",
    "def modi_lr_cv(result):\n",
    "    DE_thresh_up = result[0]\n",
    "    DE_thresh_down = result[1]\n",
    "    biog_thresh = result[2]\n",
    "    log_reg_C = result[3]\n",
    "    accuracys = Parallel(n_jobs=-1)(delayed(train_lr_single_fold)(X_CV, y_CV, DE_thresh_up, DE_thresh_down, biog_thresh, log_reg_C) for _ in range(folds))\n",
    "    accuracy_cv = np.mean(accuracys)\n",
    "    error = 1 - accuracy_cv\n",
    "    return error\n",
    "\n",
    "param_space = [\n",
    "    Real(1, 4, name='DE_thresh_up'),\n",
    "    Real(-4, -1, name='DE_thresh_down'),\n",
    "    Real(1e-6, 0.1, name='biog_thresh'),\n",
    "    Real(1e-6, 1, name='log_reg_C'),\n",
    "]"
   ]
  },
  {
   "cell_type": "code",
   "execution_count": null,
   "id": "2c53e15d-3257-4f67-b4b1-1c56be9f194c",
   "metadata": {
    "tags": []
   },
   "outputs": [],
   "source": [
    "result_lr = gp_minimize(modi_lr_cv, dimensions=param_space, n_calls=50, random_state=42, n_jobs=-1)"
   ]
  },
  {
   "cell_type": "code",
   "execution_count": null,
   "id": "e3a79ad8-03a2-4298-8ae9-fbcc000e5008",
   "metadata": {
    "tags": []
   },
   "outputs": [],
   "source": [
    "log2foldmask = (terms['normalized_effect'].astype('double') >= result_lr.x[0]) | \\\n",
    "                   (terms['normalized_effect'].astype('double') <= result_lr.x[1])\n",
    "pvalmask = terms['q_value'].astype('double') < 0.05\n",
    "DEs = terms['gene_short_name'][log2foldmask & pvalmask]\n",
    "CORRs = corr_w_HNRNPLL_df.loc[corr_w_HNRNPLL_df['pvalue'] < 0.05].sort_values(by='statistic', ascending=False).index[:int(np.floor(corr_w_HNRNPLL_df.shape[0]*result_lr.x[2]))]\n",
    "best_lr_features = np.union1d(DEs, CORRs)"
   ]
  },
  {
   "cell_type": "code",
   "execution_count": null,
   "id": "f9d54a0e-da1d-4332-af97-95d7db323abd",
   "metadata": {
    "tags": []
   },
   "outputs": [],
   "source": [
    "best_lr = LogisticRegression(solver='saga', C=result_lr.x[3], penalty='l2', random_state=42)\n",
    "best_lr.fit(X_train[best_lr_features], y_train)"
   ]
  },
  {
   "cell_type": "code",
   "execution_count": 38,
   "id": "ec02f821-b6b3-4d96-b566-89f3c1ffbeb5",
   "metadata": {
    "id": "c034593d-8013-4e4a-b7d4-7af5370a4118",
    "tags": []
   },
   "outputs": [],
   "source": [
    "y_pred_val_lr = best_lr.predict(X_val[best_lr_features])\n",
    "test_result_table.loc['LR', 'Accuracy (%)'] = np.round(accuracy_score(y_val, y_pred_val_lr)*100,3)\n",
    "test_result_table.loc['LR', 'Precision (%)'] = np.round(precision_score(y_val, y_pred_val_lr)*100,3)\n",
    "test_result_table.loc['LR', 'Recall (%)'] = np.round(recall_score(y_val, y_pred_val_lr)*100,3)"
   ]
  },
  {
   "cell_type": "code",
   "execution_count": 39,
   "id": "09ab7d29-7992-48f5-9f00-d1ee3a0034c6",
   "metadata": {
    "id": "9d49621f-9398-498d-a895-157e550344cd",
    "outputId": "0d2f37fd-5db5-4765-e9cb-1865741cfa19",
    "tags": []
   },
   "outputs": [],
   "source": [
    "y_pred_train_lr = best_lr.predict(X_train[best_lr_features])\n",
    "train_result_table.loc['LR', 'Accuracy (%)'] = np.round(accuracy_score(y_train, y_pred_train_lr)*100,3)\n",
    "train_result_table.loc['LR', 'Precision (%)'] = np.round(precision_score(y_train, y_pred_train_lr)*100,3)\n",
    "train_result_table.loc['LR', 'Recall (%)'] = np.round(recall_score(y_train, y_pred_train_lr)*100,3)"
   ]
  },
  {
   "cell_type": "code",
   "execution_count": 40,
   "id": "aaf93bcc-4a54-42cb-af2b-f3514d1c8fd9",
   "metadata": {
    "tags": []
   },
   "outputs": [],
   "source": [
    "test_prediction_table['LR'] = y_pred_val_lr\n",
    "train_prediction_table['LR'] = y_pred_train_lr"
   ]
  },
  {
   "cell_type": "code",
   "execution_count": null,
   "id": "32902dfb-9d10-4a66-82a2-f64708233f2c",
   "metadata": {
    "id": "fe7df149-10bb-4608-b177-a50e727482c1",
    "tags": []
   },
   "outputs": [],
   "source": [
    "#save the model and features\n",
    "dump(best_lr, 'best_lr.joblib')\n",
    "pd.DataFrame(best_lr_features).to_excel('best_lr_features.xlsx')"
   ]
  },
  {
   "cell_type": "code",
   "execution_count": 41,
   "id": "461472b7-cb3b-4eec-84dc-24977522b8c2",
   "metadata": {
    "tags": []
   },
   "outputs": [
    {
     "data": {
      "text/html": [
       "<div>\n",
       "<style scoped>\n",
       "    .dataframe tbody tr th:only-of-type {\n",
       "        vertical-align: middle;\n",
       "    }\n",
       "\n",
       "    .dataframe tbody tr th {\n",
       "        vertical-align: top;\n",
       "    }\n",
       "\n",
       "    .dataframe thead th {\n",
       "        text-align: right;\n",
       "    }\n",
       "</style>\n",
       "<table border=\"1\" class=\"dataframe\">\n",
       "  <thead>\n",
       "    <tr style=\"text-align: right;\">\n",
       "      <th></th>\n",
       "      <th>Accuracy (%)</th>\n",
       "      <th>Precision (%)</th>\n",
       "      <th>Recall (%)</th>\n",
       "    </tr>\n",
       "  </thead>\n",
       "  <tbody>\n",
       "    <tr>\n",
       "      <th>SVM linear</th>\n",
       "      <td>92.891</td>\n",
       "      <td>92.381</td>\n",
       "      <td>87.651</td>\n",
       "    </tr>\n",
       "    <tr>\n",
       "      <th>SVM rbf</th>\n",
       "      <td>99.453</td>\n",
       "      <td>99.596</td>\n",
       "      <td>98.896</td>\n",
       "    </tr>\n",
       "    <tr>\n",
       "      <th>LR</th>\n",
       "      <td>99.307</td>\n",
       "      <td>99.393</td>\n",
       "      <td>98.695</td>\n",
       "    </tr>\n",
       "    <tr>\n",
       "      <th>stack</th>\n",
       "      <td>0.000</td>\n",
       "      <td>0.000</td>\n",
       "      <td>0.000</td>\n",
       "    </tr>\n",
       "    <tr>\n",
       "      <th>MLP linear SVM features</th>\n",
       "      <td>0.000</td>\n",
       "      <td>0.000</td>\n",
       "      <td>0.000</td>\n",
       "    </tr>\n",
       "    <tr>\n",
       "      <th>MLP rbf SVM features</th>\n",
       "      <td>0.000</td>\n",
       "      <td>0.000</td>\n",
       "      <td>0.000</td>\n",
       "    </tr>\n",
       "  </tbody>\n",
       "</table>\n",
       "</div>"
      ],
      "text/plain": [
       "                         Accuracy (%)  Precision (%)  Recall (%)\n",
       "SVM linear                     92.891         92.381      87.651\n",
       "SVM rbf                        99.453         99.596      98.896\n",
       "LR                             99.307         99.393      98.695\n",
       "stack                           0.000          0.000       0.000\n",
       "MLP linear SVM features         0.000          0.000       0.000\n",
       "MLP rbf SVM features            0.000          0.000       0.000"
      ]
     },
     "execution_count": 41,
     "metadata": {},
     "output_type": "execute_result"
    }
   ],
   "source": [
    "train_result_table"
   ]
  },
  {
   "cell_type": "code",
   "execution_count": 42,
   "id": "82f38ba5-8f3b-432d-8d65-90d9604101e3",
   "metadata": {
    "tags": []
   },
   "outputs": [
    {
     "data": {
      "text/html": [
       "<div>\n",
       "<style scoped>\n",
       "    .dataframe tbody tr th:only-of-type {\n",
       "        vertical-align: middle;\n",
       "    }\n",
       "\n",
       "    .dataframe tbody tr th {\n",
       "        vertical-align: top;\n",
       "    }\n",
       "\n",
       "    .dataframe thead th {\n",
       "        text-align: right;\n",
       "    }\n",
       "</style>\n",
       "<table border=\"1\" class=\"dataframe\">\n",
       "  <thead>\n",
       "    <tr style=\"text-align: right;\">\n",
       "      <th></th>\n",
       "      <th>Accuracy (%)</th>\n",
       "      <th>Precision (%)</th>\n",
       "      <th>Recall (%)</th>\n",
       "    </tr>\n",
       "  </thead>\n",
       "  <tbody>\n",
       "    <tr>\n",
       "      <th>SVM linear</th>\n",
       "      <td>86.589</td>\n",
       "      <td>88.559</td>\n",
       "      <td>76.277</td>\n",
       "    </tr>\n",
       "    <tr>\n",
       "      <th>SVM rbf</th>\n",
       "      <td>89.942</td>\n",
       "      <td>90.196</td>\n",
       "      <td>83.942</td>\n",
       "    </tr>\n",
       "    <tr>\n",
       "      <th>LR</th>\n",
       "      <td>88.776</td>\n",
       "      <td>88.327</td>\n",
       "      <td>82.847</td>\n",
       "    </tr>\n",
       "    <tr>\n",
       "      <th>stack</th>\n",
       "      <td>0.000</td>\n",
       "      <td>0.000</td>\n",
       "      <td>0.000</td>\n",
       "    </tr>\n",
       "    <tr>\n",
       "      <th>MLP linear SVM features</th>\n",
       "      <td>0.000</td>\n",
       "      <td>0.000</td>\n",
       "      <td>0.000</td>\n",
       "    </tr>\n",
       "    <tr>\n",
       "      <th>MLP rbf SVM features</th>\n",
       "      <td>0.000</td>\n",
       "      <td>0.000</td>\n",
       "      <td>0.000</td>\n",
       "    </tr>\n",
       "  </tbody>\n",
       "</table>\n",
       "</div>"
      ],
      "text/plain": [
       "                         Accuracy (%)  Precision (%)  Recall (%)\n",
       "SVM linear                     86.589         88.559      76.277\n",
       "SVM rbf                        89.942         90.196      83.942\n",
       "LR                             88.776         88.327      82.847\n",
       "stack                           0.000          0.000       0.000\n",
       "MLP linear SVM features         0.000          0.000       0.000\n",
       "MLP rbf SVM features            0.000          0.000       0.000"
      ]
     },
     "execution_count": 42,
     "metadata": {},
     "output_type": "execute_result"
    }
   ],
   "source": [
    "test_result_table"
   ]
  },
  {
   "cell_type": "code",
   "execution_count": 327,
   "id": "b480036c-897b-487e-a31d-958a787e8c21",
   "metadata": {},
   "outputs": [],
   "source": [
    "#format unseen\n",
    "unseen_df = pd.DataFrame()\n",
    "for i in best_LR_features:\n",
    "    if i in cd45raneg_df.columns:\n",
    "        unseen_df[i] = cd45raneg_df[i]\n",
    "    else:\n",
    "        unseen_df[i] = np.zeros(cd45raneg_df.shape[0])"
   ]
  },
  {
   "cell_type": "code",
   "execution_count": 328,
   "id": "afa59fd1-540b-4e52-a950-f460174c6e43",
   "metadata": {},
   "outputs": [
    {
     "name": "stdout",
     "output_type": "stream",
     "text": [
      "Accuracy: 0.8862203542479736\n"
     ]
    }
   ],
   "source": [
    "#predict the unseen\n",
    "y_pred_unseen = best_LR.predict(unseen_df)\n",
    "accuracy = accuracy_score(np.zeros([cd45raneg_df.shape[0],1]), y_pred_unseen)\n",
    "\n",
    "print(\"Accuracy:\", accuracy)"
   ]
  },
  {
   "cell_type": "code",
   "execution_count": 329,
   "id": "ecbc2593-4bd4-4999-b658-f6d1d65c1d1f",
   "metadata": {},
   "outputs": [],
   "source": [
    "adata_unseen.obs['LR'] = y_pred_unseen\n",
    "adata_unseen.obs['LR']=adata_unseen.obs['LR'].astype('str')"
   ]
  },
  {
   "cell_type": "markdown",
   "id": "2c66287f-2406-447d-b5e0-69af9fb9ee83",
   "metadata": {
    "tags": []
   },
   "source": [
    "### MLP linear"
   ]
  },
  {
   "cell_type": "code",
   "execution_count": null,
   "id": "3ca7b3e3-35d2-4eed-91a2-cb0e2fd2b0d9",
   "metadata": {
    "tags": []
   },
   "outputs": [],
   "source": [
    "best_linear_svm_features=pd.read_excel('model/Used_features.xlsx',index_col = 0).iloc[:,0].dropna().values.tolist()"
   ]
  },
  {
   "cell_type": "code",
   "execution_count": null,
   "id": "8825ca6f-58c9-4003-8694-80fbcda7eaa0",
   "metadata": {
    "id": "b77e1602-4d24-4ca3-aa6f-b2d15213612f",
    "tags": []
   },
   "outputs": [],
   "source": [
    "# define the neural network architecture\n",
    "def build_model(learning_rate, dropout_rate, num_hidden_layers, num_neurons):\n",
    "    model = tf.keras.models.Sequential()\n",
    "    model.add(tf.keras.layers.Dense(num_neurons, input_shape=(len(best_linear_svm_features),), activation='relu'))\n",
    "    for i in range(num_hidden_layers):\n",
    "        model.add(tf.keras.layers.Dense(num_neurons, activation='relu'))\n",
    "        model.add(tf.keras.layers.Dropout(dropout_rate))\n",
    "    model.add(tf.keras.layers.Dense(1, activation='sigmoid'))\n",
    "    optimizer = tf.keras.optimizers.Adam(lr=learning_rate)\n",
    "    model.compile(loss='binary_crossentropy', optimizer=optimizer, metrics=['accuracy'])\n",
    "    return model"
   ]
  },
  {
   "cell_type": "code",
   "execution_count": null,
   "id": "3f0094d8-79f3-465a-b422-0d43e0a2f8ca",
   "metadata": {
    "id": "d2f921c0-e9df-4e9e-9adf-988ff6e55a99",
    "outputId": "216086c6-f321-4918-baff-71d37c74a20c",
    "tags": []
   },
   "outputs": [],
   "source": [
    "X_CV = X_train\n",
    "y_CV = y_train\n",
    "folds = 5\n",
    "global folds\n",
    "\n",
    "def modi_mlp_cv(result):\n",
    "    learning_rate = result[0]\n",
    "    dropout_rate =result[1]\n",
    "    num_hidden_layers=result[2]\n",
    "    num_neurons=result[3]\n",
    "\n",
    "    loss = []\n",
    "    for i in range(0,folds):\n",
    "        _X_train, _X_val, _y_train, _y_val = train_test_split(X_CV, y_CV, test_size=0.2)\n",
    "\n",
    "        _X_CV = _X_train[best_linear_svm_features]\n",
    "\n",
    "        model = build_model(learning_rate, dropout_rate, num_hidden_layers, num_neurons)\n",
    "        history = model.fit(_X_CV, _y_train, epochs=10, batch_size=32, verbose=0)\n",
    "\n",
    "        val_loss, val_acc = model.evaluate(_X_val[best_linear_svm_features], _y_val, verbose=0)\n",
    "        loss.append(val_loss)\n",
    "        print(val_loss)\n",
    "\n",
    "    avg_loss = np.mean(loss)\n",
    "    return avg_loss\n",
    "\n",
    "param_space = [\n",
    "    Real(0.0001, 0.01, name='learning_rate'),\n",
    "    Real(0.1, 0.5, name='dropout_rate'),\n",
    "    Integer(1, 3, name='num_hidden_layers'),\n",
    "    Integer(16, 128, name='num_neurons'),\n",
    "]\n",
    "\n",
    "result_mlp_linear = gp_minimize(modi_mlp_cv, dimensions=param_space, n_calls=50, random_state=42,n_jobs=-1)"
   ]
  },
  {
   "cell_type": "code",
   "execution_count": null,
   "id": "542362ba-0f48-463e-b7c5-46e359301c88",
   "metadata": {
    "id": "9f535269-8d58-4ee9-a046-16536e25e538",
    "tags": []
   },
   "outputs": [],
   "source": [
    "best_mlp_linear = build_model(*result_mlp_linear.x)\n",
    "best_mlp_linear.fit(X_train[best_linear_svm_features], y_train, epochs=10, batch_size=32, verbose=0)"
   ]
  },
  {
   "cell_type": "code",
   "execution_count": 48,
   "id": "101277f2-d07d-42fd-9011-dab969e8f52b",
   "metadata": {
    "id": "c034593d-8013-4e4a-b7d4-7af5370a4118",
    "tags": []
   },
   "outputs": [
    {
     "name": "stdout",
     "output_type": "stream",
     "text": [
      "22/22 [==============================] - 0s 902us/step\n"
     ]
    }
   ],
   "source": [
    "y_pred_val_mlp_linear = best_mlp_linear.predict(X_val[best_linear_svm_features])\n",
    "test_result_table.loc['MLP linear SVM features', 'Accuracy (%)'] = np.round(accuracy_score(y_val, y_pred_val_mlp_linear>0.5)*100,3)\n",
    "test_result_table.loc['MLP linear SVM features', 'Precision (%)'] = np.round(precision_score(y_val, y_pred_val_mlp_linear>0.5)*100,3)\n",
    "test_result_table.loc['MLP linear SVM features', 'Recall (%)'] = np.round(recall_score(y_val, y_pred_val_mlp_linear>0.5)*100,3)"
   ]
  },
  {
   "cell_type": "code",
   "execution_count": 49,
   "id": "4fb6b942-6e75-44b5-b1ad-da553db2283c",
   "metadata": {
    "id": "9d49621f-9398-498d-a895-157e550344cd",
    "outputId": "0d2f37fd-5db5-4765-e9cb-1865741cfa19",
    "tags": []
   },
   "outputs": [
    {
     "name": "stdout",
     "output_type": "stream",
     "text": [
      "86/86 [==============================] - 0s 883us/step\n"
     ]
    }
   ],
   "source": [
    "y_pred_train_mlp_linear = best_mlp_linear.predict(X_train[best_linear_svm_features])\n",
    "train_result_table.loc['MLP linear SVM features', 'Accuracy (%)'] = np.round(accuracy_score(y_train, y_pred_train_mlp_linear>0.5)*100,3)\n",
    "train_result_table.loc['MLP linear SVM features', 'Precision (%)'] = np.round(precision_score(y_train, y_pred_train_mlp_linear>0.5)*100,3)\n",
    "train_result_table.loc['MLP linear SVM features', 'Recall (%)'] = np.round(recall_score(y_train, y_pred_train_mlp_linear>0.5)*100,3)"
   ]
  },
  {
   "cell_type": "code",
   "execution_count": 50,
   "id": "feff345d-95c2-47dd-a048-c7530c23f7d3",
   "metadata": {
    "tags": []
   },
   "outputs": [],
   "source": [
    "test_prediction_table['MLP linear SVM features'] = y_pred_val_mlp_linear>0.5\n",
    "train_prediction_table['MLP linear SVM features'] = y_pred_train_mlp_linear>0.5"
   ]
  },
  {
   "cell_type": "code",
   "execution_count": 51,
   "id": "bc888008-662d-424c-906e-26b71c94f613",
   "metadata": {
    "tags": []
   },
   "outputs": [
    {
     "data": {
      "text/html": [
       "<div>\n",
       "<style scoped>\n",
       "    .dataframe tbody tr th:only-of-type {\n",
       "        vertical-align: middle;\n",
       "    }\n",
       "\n",
       "    .dataframe tbody tr th {\n",
       "        vertical-align: top;\n",
       "    }\n",
       "\n",
       "    .dataframe thead th {\n",
       "        text-align: right;\n",
       "    }\n",
       "</style>\n",
       "<table border=\"1\" class=\"dataframe\">\n",
       "  <thead>\n",
       "    <tr style=\"text-align: right;\">\n",
       "      <th></th>\n",
       "      <th>Accuracy (%)</th>\n",
       "      <th>Precision (%)</th>\n",
       "      <th>Recall (%)</th>\n",
       "    </tr>\n",
       "  </thead>\n",
       "  <tbody>\n",
       "    <tr>\n",
       "      <th>SVM linear</th>\n",
       "      <td>92.891</td>\n",
       "      <td>92.381</td>\n",
       "      <td>87.651</td>\n",
       "    </tr>\n",
       "    <tr>\n",
       "      <th>SVM rbf</th>\n",
       "      <td>99.453</td>\n",
       "      <td>99.596</td>\n",
       "      <td>98.896</td>\n",
       "    </tr>\n",
       "    <tr>\n",
       "      <th>LR</th>\n",
       "      <td>99.307</td>\n",
       "      <td>99.393</td>\n",
       "      <td>98.695</td>\n",
       "    </tr>\n",
       "    <tr>\n",
       "      <th>stack</th>\n",
       "      <td>0.000</td>\n",
       "      <td>0.000</td>\n",
       "      <td>0.000</td>\n",
       "    </tr>\n",
       "    <tr>\n",
       "      <th>MLP linear SVM features</th>\n",
       "      <td>92.526</td>\n",
       "      <td>94.892</td>\n",
       "      <td>83.936</td>\n",
       "    </tr>\n",
       "    <tr>\n",
       "      <th>MLP rbf SVM features</th>\n",
       "      <td>95.479</td>\n",
       "      <td>92.913</td>\n",
       "      <td>94.779</td>\n",
       "    </tr>\n",
       "  </tbody>\n",
       "</table>\n",
       "</div>"
      ],
      "text/plain": [
       "                         Accuracy (%)  Precision (%)  Recall (%)\n",
       "SVM linear                     92.891         92.381      87.651\n",
       "SVM rbf                        99.453         99.596      98.896\n",
       "LR                             99.307         99.393      98.695\n",
       "stack                           0.000          0.000       0.000\n",
       "MLP linear SVM features        92.526         94.892      83.936\n",
       "MLP rbf SVM features           95.479         92.913      94.779"
      ]
     },
     "execution_count": 51,
     "metadata": {},
     "output_type": "execute_result"
    }
   ],
   "source": [
    "train_result_table"
   ]
  },
  {
   "cell_type": "code",
   "execution_count": 52,
   "id": "1310857d-7f1c-4b9d-ba38-3faf3a86273f",
   "metadata": {
    "tags": []
   },
   "outputs": [
    {
     "data": {
      "text/html": [
       "<div>\n",
       "<style scoped>\n",
       "    .dataframe tbody tr th:only-of-type {\n",
       "        vertical-align: middle;\n",
       "    }\n",
       "\n",
       "    .dataframe tbody tr th {\n",
       "        vertical-align: top;\n",
       "    }\n",
       "\n",
       "    .dataframe thead th {\n",
       "        text-align: right;\n",
       "    }\n",
       "</style>\n",
       "<table border=\"1\" class=\"dataframe\">\n",
       "  <thead>\n",
       "    <tr style=\"text-align: right;\">\n",
       "      <th></th>\n",
       "      <th>Accuracy (%)</th>\n",
       "      <th>Precision (%)</th>\n",
       "      <th>Recall (%)</th>\n",
       "    </tr>\n",
       "  </thead>\n",
       "  <tbody>\n",
       "    <tr>\n",
       "      <th>SVM linear</th>\n",
       "      <td>86.589</td>\n",
       "      <td>88.559</td>\n",
       "      <td>76.277</td>\n",
       "    </tr>\n",
       "    <tr>\n",
       "      <th>SVM rbf</th>\n",
       "      <td>89.942</td>\n",
       "      <td>90.196</td>\n",
       "      <td>83.942</td>\n",
       "    </tr>\n",
       "    <tr>\n",
       "      <th>LR</th>\n",
       "      <td>88.776</td>\n",
       "      <td>88.327</td>\n",
       "      <td>82.847</td>\n",
       "    </tr>\n",
       "    <tr>\n",
       "      <th>stack</th>\n",
       "      <td>0.000</td>\n",
       "      <td>0.000</td>\n",
       "      <td>0.000</td>\n",
       "    </tr>\n",
       "    <tr>\n",
       "      <th>MLP linear SVM features</th>\n",
       "      <td>87.901</td>\n",
       "      <td>93.213</td>\n",
       "      <td>75.182</td>\n",
       "    </tr>\n",
       "    <tr>\n",
       "      <th>MLP rbf SVM features</th>\n",
       "      <td>89.213</td>\n",
       "      <td>88.760</td>\n",
       "      <td>83.577</td>\n",
       "    </tr>\n",
       "  </tbody>\n",
       "</table>\n",
       "</div>"
      ],
      "text/plain": [
       "                         Accuracy (%)  Precision (%)  Recall (%)\n",
       "SVM linear                     86.589         88.559      76.277\n",
       "SVM rbf                        89.942         90.196      83.942\n",
       "LR                             88.776         88.327      82.847\n",
       "stack                           0.000          0.000       0.000\n",
       "MLP linear SVM features        87.901         93.213      75.182\n",
       "MLP rbf SVM features           89.213         88.760      83.577"
      ]
     },
     "execution_count": 52,
     "metadata": {},
     "output_type": "execute_result"
    }
   ],
   "source": [
    "test_result_table"
   ]
  },
  {
   "cell_type": "code",
   "execution_count": null,
   "id": "b0ee142b-6d9a-41f1-ac5f-fb12c582a6ad",
   "metadata": {
    "id": "243f35e6-826f-4632-9769-cb1642ff698c",
    "tags": []
   },
   "outputs": [],
   "source": [
    "#save the model\n",
    "best_mlp_linear.save('best_mlp_linear.h5')"
   ]
  },
  {
   "cell_type": "code",
   "execution_count": null,
   "id": "5ebf6778-0561-4e66-8fa4-e179ae7e6454",
   "metadata": {
    "tags": []
   },
   "outputs": [],
   "source": [
    "best_linear_svm_features=pd.DataFrame(best_linear_svm_features).to_excel('best_linear_svm_features.xlsx')"
   ]
  },
  {
   "cell_type": "code",
   "execution_count": null,
   "id": "4a82c2f0-561a-47c0-af21-8c5f9abd677e",
   "metadata": {
    "tags": []
   },
   "outputs": [],
   "source": [
    "with open('result_mlp_linear.pkl', 'wb') as file:\n",
    "    pickle.dump(result_mlp_linear, file)"
   ]
  },
  {
   "cell_type": "code",
   "execution_count": 337,
   "id": "955c7959-8bfe-4d69-a281-02160621a759",
   "metadata": {},
   "outputs": [],
   "source": [
    "#format unseen\n",
    "unseen_df = pd.DataFrame()\n",
    "for i in best_linear_svm_features:\n",
    "    if i in cd45raneg_df.columns:\n",
    "        unseen_df[i] = cd45raneg_df[i]\n",
    "    else:\n",
    "        unseen_df[i] = np.zeros(cd45raneg_df.shape[0])"
   ]
  },
  {
   "cell_type": "code",
   "execution_count": 338,
   "id": "dc4e164a-e05c-45ac-bd63-cf61ee104773",
   "metadata": {},
   "outputs": [
    {
     "name": "stdout",
     "output_type": "stream",
     "text": [
      "625/625 [==============================] - 3s 5ms/step\n",
      "Accuracy: 0.9974482137496248\n"
     ]
    }
   ],
   "source": [
    "#predict the unseen\n",
    "y_pred_unseen = best_mlp.predict(unseen_df)\n",
    "accuracy = accuracy_score(np.zeros([cd45raneg_df.shape[0],1]), y_pred_unseen>0.5)\n",
    "\n",
    "print(\"Accuracy:\", accuracy)"
   ]
  },
  {
   "cell_type": "code",
   "execution_count": 345,
   "id": "5e640cc4-b26f-4c0f-8b77-f07227cee1c4",
   "metadata": {},
   "outputs": [],
   "source": [
    "adata_unseen.obs['mlp'] = y_pred_unseen>0.5\n",
    "adata_unseen.obs['mlp']=adata_unseen.obs['mlp'].astype('str')"
   ]
  },
  {
   "cell_type": "markdown",
   "id": "d93f4a07-dfb2-43c7-b97d-b8d4cf1c1d13",
   "metadata": {},
   "source": [
    "### MLP rbf"
   ]
  },
  {
   "cell_type": "code",
   "execution_count": null,
   "id": "36720648-5fd7-428e-8a35-3295c452628b",
   "metadata": {
    "id": "b77e1602-4d24-4ca3-aa6f-b2d15213612f",
    "tags": []
   },
   "outputs": [],
   "source": [
    "# define the neural network architecture\n",
    "def build_model(learning_rate, dropout_rate, num_hidden_layers, num_neurons,epochs,batch_size):\n",
    "    model = tf.keras.models.Sequential()\n",
    "    model.add(tf.keras.layers.Dense(num_neurons, input_shape=(len(best_rbf_svm_features),), activation='relu'))\n",
    "    for i in range(num_hidden_layers):\n",
    "        model.add(tf.keras.layers.Dense(num_neurons, activation='relu',kernel_regularizer=regularizers.l1(0.01)))\n",
    "        model.add(tf.keras.layers.Dropout(dropout_rate))\n",
    "    model.add(tf.keras.layers.Dense(1, activation='sigmoid'))\n",
    "    optimizer = tf.keras.optimizers.Adam(lr=learning_rate)\n",
    "    model.compile(loss='binary_crossentropy', optimizer=optimizer, metrics=['accuracy'])\n",
    "    return model"
   ]
  },
  {
   "cell_type": "code",
   "execution_count": null,
   "id": "3cc428fe-ed1d-4beb-90df-c8994551e24b",
   "metadata": {
    "id": "d2f921c0-e9df-4e9e-9adf-988ff6e55a99",
    "outputId": "216086c6-f321-4918-baff-71d37c74a20c",
    "tags": []
   },
   "outputs": [],
   "source": [
    "X_CV = X_train\n",
    "y_CV = y_train\n",
    "folds = 5\n",
    "global folds\n",
    "\n",
    "def modi_mlp_cv(result):\n",
    "    learning_rate = result[0]\n",
    "    dropout_rate =result[1]\n",
    "    num_hidden_layers=result[2]\n",
    "    num_neurons=result[3]\n",
    "    epochs = result[4]\n",
    "    batch_size = result[5]\n",
    "\n",
    "    loss = []\n",
    "    f1_scores = []\n",
    "    for i in range(0,folds):\n",
    "        _X_train, _X_val, _y_train, _y_val = train_test_split(X_CV, y_CV, test_size=0.2)\n",
    "\n",
    "        _X_CV = _X_train[best_rbf_svm_features]\n",
    "\n",
    "        model = build_model(learning_rate, dropout_rate, num_hidden_layers, num_neurons,epochs,batch_size)\n",
    "        history = model.fit(_X_CV, _y_train, epochs=epochs, batch_size=batch_size, verbose=0)\n",
    "\n",
    "        #val_loss, val_acc = model.evaluate(_X_val[best_rbf_svm_features], _y_val, verbose=0)\n",
    "        #loss.append(val_loss)\n",
    "        #print(val_loss)\n",
    "        \n",
    "        y_pred = model.predict(_X_val[best_rbf_svm_features])\n",
    "        y_pred_binary = np.round(y_pred).astype(int)\n",
    "        f1 = f1_score(_y_val, y_pred_binary, average='weighted')\n",
    "        f1_scores.append(f1)\n",
    "\n",
    "    #avg_loss = np.mean(loss)\n",
    "    avg_f1 = np.mean(f1_scores)\n",
    "    avg_diff = 1 - avg_f1\n",
    "    return avg_diff\n",
    "\n",
    "param_space = [\n",
    "    Real(0.0001, 0.01, name='learning_rate'),\n",
    "    Real(0.1, 0.5, name='dropout_rate'),\n",
    "    Integer(1, 3, name='num_hidden_layers'),\n",
    "    Integer(16, 128, name='num_neurons'),\n",
    "    Integer(100, 1000, name='epochs'),\n",
    "    Integer(16, 128, name='batch_size')\n",
    "]\n",
    "\n",
    "result_mlp_rbf = gp_minimize(modi_mlp_cv, dimensions=param_space, n_calls=10, random_state=42,n_jobs=-1)"
   ]
  },
  {
   "cell_type": "code",
   "execution_count": null,
   "id": "aacc1448-8e6c-4cd0-bfd1-6c5f228405ee",
   "metadata": {
    "id": "9f535269-8d58-4ee9-a046-16536e25e538",
    "tags": []
   },
   "outputs": [],
   "source": [
    "best_mlp_rbf = build_model(*result_mlp_rbf.x)\n",
    "best_mlp_rbf.fit(X_train[best_rbf_svm_features], y_train, epochs=result_mlp_rbf.x[4], batch_size=result_mlp_rbf.x[5], verbose=0)"
   ]
  },
  {
   "cell_type": "code",
   "execution_count": 43,
   "id": "0c39d4c3-0ea1-4bd7-9e6c-d81dca6676f9",
   "metadata": {
    "id": "c034593d-8013-4e4a-b7d4-7af5370a4118",
    "tags": []
   },
   "outputs": [
    {
     "name": "stdout",
     "output_type": "stream",
     "text": [
      "22/22 [==============================] - 0s 1ms/step\n"
     ]
    }
   ],
   "source": [
    "y_pred_val_mlp_rbf = best_mlp_rbf.predict(X_val[best_rbf_svm_features])\n",
    "test_result_table.loc['MLP rbf SVM features', 'Accuracy (%)'] = np.round(accuracy_score(y_val, y_pred_val_mlp_rbf>0.5)*100,3)\n",
    "test_result_table.loc['MLP rbf SVM features', 'Precision (%)'] = np.round(precision_score(y_val, y_pred_val_mlp_rbf>0.5)*100,3)\n",
    "test_result_table.loc['MLP rbf SVM features', 'Recall (%)'] = np.round(recall_score(y_val, y_pred_val_mlp_rbf>0.5)*100,3)"
   ]
  },
  {
   "cell_type": "code",
   "execution_count": 44,
   "id": "a7dd675c-3f77-49af-bd3b-8b0ac74b6680",
   "metadata": {
    "id": "9d49621f-9398-498d-a895-157e550344cd",
    "outputId": "0d2f37fd-5db5-4765-e9cb-1865741cfa19",
    "tags": []
   },
   "outputs": [
    {
     "name": "stdout",
     "output_type": "stream",
     "text": [
      "86/86 [==============================] - 0s 985us/step\n"
     ]
    }
   ],
   "source": [
    "y_pred_train_mlp_rbf = best_mlp_rbf.predict(X_train[best_rbf_svm_features])\n",
    "train_result_table.loc['MLP rbf SVM features', 'Accuracy (%)'] = np.round(accuracy_score(y_train, y_pred_train_mlp_rbf>0.5)*100,3)\n",
    "train_result_table.loc['MLP rbf SVM features', 'Precision (%)'] = np.round(precision_score(y_train, y_pred_train_mlp_rbf>0.5)*100,3)\n",
    "train_result_table.loc['MLP rbf SVM features', 'Recall (%)'] = np.round(recall_score(y_train, y_pred_train_mlp_rbf>0.5)*100,3)"
   ]
  },
  {
   "cell_type": "code",
   "execution_count": 45,
   "id": "eca2caee-e818-4788-bd56-cc819875be1d",
   "metadata": {
    "tags": []
   },
   "outputs": [],
   "source": [
    "test_prediction_table['MLP rbf SVM features'] = y_pred_val_mlp_rbf>0.5\n",
    "train_prediction_table['MLP rbf SVM features'] = y_pred_train_mlp_rbf>0.5"
   ]
  },
  {
   "cell_type": "code",
   "execution_count": 46,
   "id": "cec4614d-fad1-47dd-9f0e-0316fe8dee80",
   "metadata": {
    "tags": []
   },
   "outputs": [
    {
     "data": {
      "text/html": [
       "<div>\n",
       "<style scoped>\n",
       "    .dataframe tbody tr th:only-of-type {\n",
       "        vertical-align: middle;\n",
       "    }\n",
       "\n",
       "    .dataframe tbody tr th {\n",
       "        vertical-align: top;\n",
       "    }\n",
       "\n",
       "    .dataframe thead th {\n",
       "        text-align: right;\n",
       "    }\n",
       "</style>\n",
       "<table border=\"1\" class=\"dataframe\">\n",
       "  <thead>\n",
       "    <tr style=\"text-align: right;\">\n",
       "      <th></th>\n",
       "      <th>Accuracy (%)</th>\n",
       "      <th>Precision (%)</th>\n",
       "      <th>Recall (%)</th>\n",
       "    </tr>\n",
       "  </thead>\n",
       "  <tbody>\n",
       "    <tr>\n",
       "      <th>SVM linear</th>\n",
       "      <td>92.891</td>\n",
       "      <td>92.381</td>\n",
       "      <td>87.651</td>\n",
       "    </tr>\n",
       "    <tr>\n",
       "      <th>SVM rbf</th>\n",
       "      <td>99.453</td>\n",
       "      <td>99.596</td>\n",
       "      <td>98.896</td>\n",
       "    </tr>\n",
       "    <tr>\n",
       "      <th>LR</th>\n",
       "      <td>99.307</td>\n",
       "      <td>99.393</td>\n",
       "      <td>98.695</td>\n",
       "    </tr>\n",
       "    <tr>\n",
       "      <th>stack</th>\n",
       "      <td>0.000</td>\n",
       "      <td>0.000</td>\n",
       "      <td>0.000</td>\n",
       "    </tr>\n",
       "    <tr>\n",
       "      <th>MLP linear SVM features</th>\n",
       "      <td>0.000</td>\n",
       "      <td>0.000</td>\n",
       "      <td>0.000</td>\n",
       "    </tr>\n",
       "    <tr>\n",
       "      <th>MLP rbf SVM features</th>\n",
       "      <td>95.479</td>\n",
       "      <td>92.913</td>\n",
       "      <td>94.779</td>\n",
       "    </tr>\n",
       "  </tbody>\n",
       "</table>\n",
       "</div>"
      ],
      "text/plain": [
       "                         Accuracy (%)  Precision (%)  Recall (%)\n",
       "SVM linear                     92.891         92.381      87.651\n",
       "SVM rbf                        99.453         99.596      98.896\n",
       "LR                             99.307         99.393      98.695\n",
       "stack                           0.000          0.000       0.000\n",
       "MLP linear SVM features         0.000          0.000       0.000\n",
       "MLP rbf SVM features           95.479         92.913      94.779"
      ]
     },
     "execution_count": 46,
     "metadata": {},
     "output_type": "execute_result"
    }
   ],
   "source": [
    "train_result_table"
   ]
  },
  {
   "cell_type": "code",
   "execution_count": 47,
   "id": "991099a5-7dcc-4261-b857-931fabf30088",
   "metadata": {
    "tags": []
   },
   "outputs": [
    {
     "data": {
      "text/html": [
       "<div>\n",
       "<style scoped>\n",
       "    .dataframe tbody tr th:only-of-type {\n",
       "        vertical-align: middle;\n",
       "    }\n",
       "\n",
       "    .dataframe tbody tr th {\n",
       "        vertical-align: top;\n",
       "    }\n",
       "\n",
       "    .dataframe thead th {\n",
       "        text-align: right;\n",
       "    }\n",
       "</style>\n",
       "<table border=\"1\" class=\"dataframe\">\n",
       "  <thead>\n",
       "    <tr style=\"text-align: right;\">\n",
       "      <th></th>\n",
       "      <th>Accuracy (%)</th>\n",
       "      <th>Precision (%)</th>\n",
       "      <th>Recall (%)</th>\n",
       "    </tr>\n",
       "  </thead>\n",
       "  <tbody>\n",
       "    <tr>\n",
       "      <th>SVM linear</th>\n",
       "      <td>86.589</td>\n",
       "      <td>88.559</td>\n",
       "      <td>76.277</td>\n",
       "    </tr>\n",
       "    <tr>\n",
       "      <th>SVM rbf</th>\n",
       "      <td>89.942</td>\n",
       "      <td>90.196</td>\n",
       "      <td>83.942</td>\n",
       "    </tr>\n",
       "    <tr>\n",
       "      <th>LR</th>\n",
       "      <td>88.776</td>\n",
       "      <td>88.327</td>\n",
       "      <td>82.847</td>\n",
       "    </tr>\n",
       "    <tr>\n",
       "      <th>stack</th>\n",
       "      <td>0.000</td>\n",
       "      <td>0.000</td>\n",
       "      <td>0.000</td>\n",
       "    </tr>\n",
       "    <tr>\n",
       "      <th>MLP linear SVM features</th>\n",
       "      <td>0.000</td>\n",
       "      <td>0.000</td>\n",
       "      <td>0.000</td>\n",
       "    </tr>\n",
       "    <tr>\n",
       "      <th>MLP rbf SVM features</th>\n",
       "      <td>89.213</td>\n",
       "      <td>88.760</td>\n",
       "      <td>83.577</td>\n",
       "    </tr>\n",
       "  </tbody>\n",
       "</table>\n",
       "</div>"
      ],
      "text/plain": [
       "                         Accuracy (%)  Precision (%)  Recall (%)\n",
       "SVM linear                     86.589         88.559      76.277\n",
       "SVM rbf                        89.942         90.196      83.942\n",
       "LR                             88.776         88.327      82.847\n",
       "stack                           0.000          0.000       0.000\n",
       "MLP linear SVM features         0.000          0.000       0.000\n",
       "MLP rbf SVM features           89.213         88.760      83.577"
      ]
     },
     "execution_count": 47,
     "metadata": {},
     "output_type": "execute_result"
    }
   ],
   "source": [
    "test_result_table"
   ]
  },
  {
   "cell_type": "code",
   "execution_count": null,
   "id": "ea331bbd-240c-4f42-8ca5-154d2a943aa2",
   "metadata": {
    "id": "243f35e6-826f-4632-9769-cb1642ff698c",
    "tags": []
   },
   "outputs": [],
   "source": [
    "#save the model\n",
    "best_mlp_rbf.save('best_mlp_rbf.h5')"
   ]
  },
  {
   "cell_type": "code",
   "execution_count": null,
   "id": "80a693e6-052a-4b96-a216-6e7b0a3093ff",
   "metadata": {
    "tags": []
   },
   "outputs": [],
   "source": [
    "with open('result_mlp_rbf.pkl', 'wb') as file:\n",
    "    pickle.dump(result_mlp_rbf, file)"
   ]
  },
  {
   "cell_type": "code",
   "execution_count": 337,
   "id": "6dfd0b46-7036-435d-9b63-1bb64470be35",
   "metadata": {},
   "outputs": [],
   "source": [
    "#format unseen\n",
    "unseen_df = pd.DataFrame()\n",
    "for i in best_linear_svm_features:\n",
    "    if i in cd45raneg_df.columns:\n",
    "        unseen_df[i] = cd45raneg_df[i]\n",
    "    else:\n",
    "        unseen_df[i] = np.zeros(cd45raneg_df.shape[0])"
   ]
  },
  {
   "cell_type": "code",
   "execution_count": 338,
   "id": "a7608a2a-5c03-4422-a100-112dcf75bf88",
   "metadata": {},
   "outputs": [
    {
     "name": "stdout",
     "output_type": "stream",
     "text": [
      "625/625 [==============================] - 3s 5ms/step\n",
      "Accuracy: 0.9974482137496248\n"
     ]
    }
   ],
   "source": [
    "#predict the unseen\n",
    "y_pred_unseen = best_mlp.predict(unseen_df)\n",
    "accuracy = accuracy_score(np.zeros([cd45raneg_df.shape[0],1]), y_pred_unseen>0.5)\n",
    "\n",
    "print(\"Accuracy:\", accuracy)"
   ]
  },
  {
   "cell_type": "code",
   "execution_count": 345,
   "id": "fe5f1901-a3d4-4e5d-8401-6be836d788ff",
   "metadata": {},
   "outputs": [],
   "source": [
    "adata_unseen.obs['mlp_rbf'] = y_pred_unseen>0.5\n",
    "adata_unseen.obs['mlp_rbf']=adata_unseen.obs['mlp_rbf'].astype('str')"
   ]
  },
  {
   "cell_type": "markdown",
   "id": "be11f3f8-75ab-40a9-aad1-42fc09ad0d19",
   "metadata": {},
   "source": [
    "### Stacked"
   ]
  },
  {
   "cell_type": "code",
   "execution_count": null,
   "id": "7e247f80-f5c5-482a-bebf-ba71dff18556",
   "metadata": {
    "id": "6c41ebcb-8511-45ba-9a91-f37ae5a93254",
    "outputId": "66100c29-6643-4fa4-a2a5-72a4c8330fdf",
    "tags": []
   },
   "outputs": [],
   "source": [
    "def modi_stack_cv(result):\n",
    "    DE_thresh_up = result[0]\n",
    "    DE_thresh_down =result[1]\n",
    "    biog_thresh=result[2]\n",
    "    svm_C=result[3]\n",
    "    log_reg_C=result[4]\n",
    "\n",
    "    accuracy = []\n",
    "    for i in range(0,folds):\n",
    "        _X_train, _X_val, _y_train, _y_val = train_test_split(X_CV, y_CV, test_size=0.2)\n",
    "\n",
    "        log2foldmask = (terms['normalized_effect'].astype('double') >= DE_thresh_up) | \\\n",
    "                   (terms['normalized_effect'].astype('double') <= DE_thresh_down)\n",
    "        pvalmask = terms['q_value'].astype('double') < 0.05\n",
    "        DEs = terms['gene_short_name'][log2foldmask & pvalmask]\n",
    "        # Feature selection 2\n",
    "        CORRs = corr_w_HNRNPLL_df.loc[corr_w_HNRNPLL_df['pvalue'] < 0.05].sort_values(by='statistic', ascending=False).index[:int(np.floor(corr_w_HNRNPLL_df.shape[0]*biog_thresh))]\n",
    "        features = np.union1d(DEs, CORRs)\n",
    "        _X_CV = _X_train[features]\n",
    "\n",
    "        log_reg = LogisticRegression(solver='saga', C=log_reg_C, penalty='l2', random_state=42)\n",
    "        svm_clf = SVC(C=svm_C,  kernel='linear', probability=True, random_state=42)\n",
    "\n",
    "        base_classifiers = [\n",
    "        ('logistic_regression', log_reg),\n",
    "        ('svm_clf', svm_clf)]\n",
    "        meta_classifier = LogisticRegression(solver='lbfgs', random_state=42)\n",
    "        stacking_clf = StackingClassifier(estimators=base_classifiers, final_estimator=meta_classifier)\n",
    "\n",
    "        stacking_clf.fit(_X_CV, _y_train)\n",
    "\n",
    "        _y_pred = stacking_clf.predict(_X_val[features])\n",
    "\n",
    "        accuracy.append(accuracy_score(_y_val, _y_pred))\n",
    "    accuracy_cv = np.mean(accuracy)\n",
    "    error = 1-accuracy_cv\n",
    "    print(accuracy_cv)\n",
    "    return error\n",
    "\n",
    "param_space = [\n",
    "    Real(1, 4, name='DE_thresh_up'),\n",
    "    Real(-4, -1, name='DE_thresh_down'),\n",
    "    Real(1e-6, 0.1, name='biog_thresh'),\n",
    "        Real(1e-6, 100, name='svm_C'),\n",
    "    Real(1e-6, 2, name='log_reg_C')\n",
    "]\n",
    "\n",
    "result_stack = gp_minimize(modi_stack_cv, dimensions=param_space, n_calls=30, random_state=42,n_jobs=-1)"
   ]
  },
  {
   "cell_type": "code",
   "execution_count": null,
   "id": "f15e5d39-40a0-481c-9d72-e7368cd1f160",
   "metadata": {
    "id": "74aeece2-acf0-4d2b-ba70-22dd6dbb0472",
    "outputId": "e587fdde-f08f-46b9-e9bf-6c46353ccc6d"
   },
   "outputs": [],
   "source": [
    "svm_clf_stack = SVC(C=result_stack.x[3],  kernel='linear', probability=True, random_state=42)\n",
    "log_reg_stack = LogisticRegression(solver='saga', C=result_stack.x[4], penalty='l2', random_state=42)\n",
    "\n",
    "base_classifiers_stack = [\n",
    "    ('logistic_regression', log_reg_stack),\n",
    "    ('svm', svm_clf_stack)]\n",
    "\n",
    "meta_classifier_stack = LogisticRegression(solver='lbfgs', random_state=42)\n",
    "best_stack = StackingClassifier(estimators=base_classifiers_stack, final_estimator=meta_classifier_stack)\n",
    "\n",
    "log2foldmask = (terms['normalized_effect'].astype('double') >= result_stack.x[0]) | \\\n",
    "                   (terms['normalized_effect'].astype('double') <= result_stack.x[1])\n",
    "pvalmask = terms['q_value'].astype('double') < 0.05\n",
    "DEs = terms['gene_short_name'][log2foldmask & pvalmask]\n",
    "CORRs = corr_w_HNRNPLL_df.loc[corr_w_HNRNPLL_df['pvalue'] < 0.05].sort_values(by='statistic', ascending=False).index[:int(np.floor(corr_w_HNRNPLL_df.shape[0]*result_stack.x[2]))]\n",
    "best_stack_features = np.union1d(DEs, CORRs)\n",
    "\n",
    "best_stack.fit(X_train[best_stack_features], y_train)"
   ]
  },
  {
   "cell_type": "code",
   "execution_count": 56,
   "id": "2d6afb1e-2efa-478e-866c-ee21bfc5883d",
   "metadata": {
    "id": "c034593d-8013-4e4a-b7d4-7af5370a4118",
    "tags": []
   },
   "outputs": [],
   "source": [
    "y_pred_val_stack = best_stack.predict(X_val[best_stack_features])\n",
    "test_result_table.loc['stack', 'Accuracy (%)'] = np.round(accuracy_score(y_val, y_pred_val_stack)*100,3)\n",
    "test_result_table.loc['stack', 'Precision (%)'] = np.round(precision_score(y_val, y_pred_val_stack)*100,3)\n",
    "test_result_table.loc['stack', 'Recall (%)'] = np.round(recall_score(y_val, y_pred_val_stack)*100,3)"
   ]
  },
  {
   "cell_type": "code",
   "execution_count": 57,
   "id": "0aa01695-847e-42cf-be50-af7ced992ba8",
   "metadata": {
    "id": "9d49621f-9398-498d-a895-157e550344cd",
    "outputId": "0d2f37fd-5db5-4765-e9cb-1865741cfa19",
    "tags": []
   },
   "outputs": [],
   "source": [
    "y_pred_train_stack = best_stack.predict(X_train[best_stack_features])\n",
    "train_result_table.loc['stack', 'Accuracy (%)'] = np.round(accuracy_score(y_train, y_pred_train_stack)*100,3)\n",
    "train_result_table.loc['stack', 'Precision (%)'] = np.round(precision_score(y_train, y_pred_train_stack)*100,3)\n",
    "train_result_table.loc['stack', 'Recall (%)'] = np.round(recall_score(y_train, y_pred_train_stack)*100,3)"
   ]
  },
  {
   "cell_type": "code",
   "execution_count": 58,
   "id": "57815265-8f23-4ef4-88b7-09761652c787",
   "metadata": {
    "tags": []
   },
   "outputs": [],
   "source": [
    "test_prediction_table['stack'] = y_pred_val_stack\n",
    "train_prediction_table['stack'] = y_pred_train_stack"
   ]
  },
  {
   "cell_type": "code",
   "execution_count": 61,
   "id": "8c4c7bf9-833e-4a71-aa99-331c6dbec110",
   "metadata": {
    "id": "fe7df149-10bb-4608-b177-a50e727482c1",
    "tags": []
   },
   "outputs": [],
   "source": [
    "#save the model and features\n",
    "dump(best_stack, 'best_stack.joblib')\n",
    "pd.DataFrame(best_stack_features).to_excel('best_stack_features.xlsx')"
   ]
  },
  {
   "cell_type": "code",
   "execution_count": 59,
   "id": "069d2a24-b623-4224-826a-bab98e07ccc2",
   "metadata": {
    "tags": []
   },
   "outputs": [
    {
     "data": {
      "text/html": [
       "<div>\n",
       "<style scoped>\n",
       "    .dataframe tbody tr th:only-of-type {\n",
       "        vertical-align: middle;\n",
       "    }\n",
       "\n",
       "    .dataframe tbody tr th {\n",
       "        vertical-align: top;\n",
       "    }\n",
       "\n",
       "    .dataframe thead th {\n",
       "        text-align: right;\n",
       "    }\n",
       "</style>\n",
       "<table border=\"1\" class=\"dataframe\">\n",
       "  <thead>\n",
       "    <tr style=\"text-align: right;\">\n",
       "      <th></th>\n",
       "      <th>Accuracy (%)</th>\n",
       "      <th>Precision (%)</th>\n",
       "      <th>Recall (%)</th>\n",
       "    </tr>\n",
       "  </thead>\n",
       "  <tbody>\n",
       "    <tr>\n",
       "      <th>SVM linear</th>\n",
       "      <td>92.891</td>\n",
       "      <td>92.381</td>\n",
       "      <td>87.651</td>\n",
       "    </tr>\n",
       "    <tr>\n",
       "      <th>SVM rbf</th>\n",
       "      <td>99.453</td>\n",
       "      <td>99.596</td>\n",
       "      <td>98.896</td>\n",
       "    </tr>\n",
       "    <tr>\n",
       "      <th>LR</th>\n",
       "      <td>99.307</td>\n",
       "      <td>99.393</td>\n",
       "      <td>98.695</td>\n",
       "    </tr>\n",
       "    <tr>\n",
       "      <th>stack</th>\n",
       "      <td>96.172</td>\n",
       "      <td>97.043</td>\n",
       "      <td>92.269</td>\n",
       "    </tr>\n",
       "    <tr>\n",
       "      <th>MLP linear SVM features</th>\n",
       "      <td>92.526</td>\n",
       "      <td>94.892</td>\n",
       "      <td>83.936</td>\n",
       "    </tr>\n",
       "    <tr>\n",
       "      <th>MLP rbf SVM features</th>\n",
       "      <td>95.479</td>\n",
       "      <td>92.913</td>\n",
       "      <td>94.779</td>\n",
       "    </tr>\n",
       "  </tbody>\n",
       "</table>\n",
       "</div>"
      ],
      "text/plain": [
       "                         Accuracy (%)  Precision (%)  Recall (%)\n",
       "SVM linear                     92.891         92.381      87.651\n",
       "SVM rbf                        99.453         99.596      98.896\n",
       "LR                             99.307         99.393      98.695\n",
       "stack                          96.172         97.043      92.269\n",
       "MLP linear SVM features        92.526         94.892      83.936\n",
       "MLP rbf SVM features           95.479         92.913      94.779"
      ]
     },
     "execution_count": 59,
     "metadata": {},
     "output_type": "execute_result"
    }
   ],
   "source": [
    "train_result_table"
   ]
  },
  {
   "cell_type": "code",
   "execution_count": 60,
   "id": "24e12fa9-f0d4-4340-9ab6-eefb7fe4afcf",
   "metadata": {
    "tags": []
   },
   "outputs": [
    {
     "data": {
      "text/html": [
       "<div>\n",
       "<style scoped>\n",
       "    .dataframe tbody tr th:only-of-type {\n",
       "        vertical-align: middle;\n",
       "    }\n",
       "\n",
       "    .dataframe tbody tr th {\n",
       "        vertical-align: top;\n",
       "    }\n",
       "\n",
       "    .dataframe thead th {\n",
       "        text-align: right;\n",
       "    }\n",
       "</style>\n",
       "<table border=\"1\" class=\"dataframe\">\n",
       "  <thead>\n",
       "    <tr style=\"text-align: right;\">\n",
       "      <th></th>\n",
       "      <th>Accuracy (%)</th>\n",
       "      <th>Precision (%)</th>\n",
       "      <th>Recall (%)</th>\n",
       "    </tr>\n",
       "  </thead>\n",
       "  <tbody>\n",
       "    <tr>\n",
       "      <th>SVM linear</th>\n",
       "      <td>86.589</td>\n",
       "      <td>88.559</td>\n",
       "      <td>76.277</td>\n",
       "    </tr>\n",
       "    <tr>\n",
       "      <th>SVM rbf</th>\n",
       "      <td>89.942</td>\n",
       "      <td>90.196</td>\n",
       "      <td>83.942</td>\n",
       "    </tr>\n",
       "    <tr>\n",
       "      <th>LR</th>\n",
       "      <td>88.776</td>\n",
       "      <td>88.327</td>\n",
       "      <td>82.847</td>\n",
       "    </tr>\n",
       "    <tr>\n",
       "      <th>stack</th>\n",
       "      <td>88.776</td>\n",
       "      <td>90.871</td>\n",
       "      <td>79.927</td>\n",
       "    </tr>\n",
       "    <tr>\n",
       "      <th>MLP linear SVM features</th>\n",
       "      <td>87.901</td>\n",
       "      <td>93.213</td>\n",
       "      <td>75.182</td>\n",
       "    </tr>\n",
       "    <tr>\n",
       "      <th>MLP rbf SVM features</th>\n",
       "      <td>89.213</td>\n",
       "      <td>88.760</td>\n",
       "      <td>83.577</td>\n",
       "    </tr>\n",
       "  </tbody>\n",
       "</table>\n",
       "</div>"
      ],
      "text/plain": [
       "                         Accuracy (%)  Precision (%)  Recall (%)\n",
       "SVM linear                     86.589         88.559      76.277\n",
       "SVM rbf                        89.942         90.196      83.942\n",
       "LR                             88.776         88.327      82.847\n",
       "stack                          88.776         90.871      79.927\n",
       "MLP linear SVM features        87.901         93.213      75.182\n",
       "MLP rbf SVM features           89.213         88.760      83.577"
      ]
     },
     "execution_count": 60,
     "metadata": {},
     "output_type": "execute_result"
    }
   ],
   "source": [
    "test_result_table"
   ]
  },
  {
   "cell_type": "code",
   "execution_count": 332,
   "id": "0e7e17cb-05e4-4cdb-a22e-ff4f8dbe127e",
   "metadata": {},
   "outputs": [],
   "source": [
    "#format unseen\n",
    "unseen_df = pd.DataFrame()\n",
    "for i in best_stack_features:\n",
    "    if i in cd45raneg_df.columns:\n",
    "        unseen_df[i] = cd45raneg_df[i]\n",
    "    else:\n",
    "        unseen_df[i] = np.zeros(cd45raneg_df.shape[0])"
   ]
  },
  {
   "cell_type": "code",
   "execution_count": 333,
   "id": "0d7c5c84-9792-485a-b4f3-bba01cf4515d",
   "metadata": {},
   "outputs": [
    {
     "name": "stdout",
     "output_type": "stream",
     "text": [
      "Accuracy: 0.9403582507755429\n"
     ]
    }
   ],
   "source": [
    "#predict the unseen\n",
    "y_pred_unseen = best_stack.predict(unseen_df)\n",
    "accuracy = accuracy_score(np.zeros([cd45raneg_df.shape[0],1]), y_pred_unseen)\n",
    "\n",
    "print(\"Accuracy:\", accuracy)"
   ]
  },
  {
   "cell_type": "code",
   "execution_count": 334,
   "id": "068f55be-b455-494a-a57c-84648927a2b7",
   "metadata": {},
   "outputs": [],
   "source": [
    "adata_unseen.obs['stack'] = y_pred_unseen\n",
    "adata_unseen.obs['stack']=adata_unseen.obs['stack'].astype('str')"
   ]
  },
  {
   "cell_type": "code",
   "execution_count": null,
   "id": "d7d192f2-1c49-4c1f-8460-52986e4b9a63",
   "metadata": {},
   "outputs": [],
   "source": []
  }
 ],
 "metadata": {
  "kernelspec": {
   "display_name": "Python 3 (ipykernel)",
   "language": "python",
   "name": "python3"
  },
  "language_info": {
   "codemirror_mode": {
    "name": "ipython",
    "version": 3
   },
   "file_extension": ".py",
   "mimetype": "text/x-python",
   "name": "python",
   "nbconvert_exporter": "python",
   "pygments_lexer": "ipython3",
   "version": "3.8.8"
  }
 },
 "nbformat": 4,
 "nbformat_minor": 5
}
