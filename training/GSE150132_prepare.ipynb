{
 "cells": [
  {
   "cell_type": "code",
   "execution_count": null,
   "id": "6bc1ceab-213b-4090-b0b9-a91d5d62e7f0",
   "metadata": {},
   "outputs": [],
   "source": [
    "import scanpy as sc\n",
    "import numpy as np\n",
    "import scipy as sp\n",
    "import pandas as pd\n",
    "import matplotlib.pyplot as plt\n",
    "from matplotlib import rcParams\n",
    "from matplotlib import colors\n",
    "import seaborn as sb\n",
    "from gprofiler import GProfiler\n",
    "import seaborn as sns\n",
    "import rpy2.rinterface_lib.callbacks\n",
    "import logging\n",
    "\n",
    "from rpy2.robjects import pandas2ri\n",
    "import anndata2ri"
   ]
  },
  {
   "cell_type": "code",
   "execution_count": null,
   "id": "47bfa866-b2b4-4be8-9597-0827a5f81dd7",
   "metadata": {},
   "outputs": [],
   "source": [
    "import importlib\n",
    "import warnings\n",
    "warnings.filterwarnings(\"ignore\")\n",
    "\n",
    "import pickle as pkl"
   ]
  },
  {
   "cell_type": "code",
   "execution_count": null,
   "id": "9ec63ce3-00dc-40ed-b3ae-9250e6b6b7d1",
   "metadata": {},
   "outputs": [],
   "source": [
    "# Ignore R warning messages\n",
    "#Note: this can be commented out to get more verbose R output\n",
    "rpy2.rinterface_lib.callbacks.logger.setLevel(logging.ERROR)\n",
    "\n",
    "# Automatically convert rpy2 outputs to pandas dataframes\n",
    "pandas2ri.activate()\n",
    "anndata2ri.activate()\n",
    "%load_ext rpy2.ipython\n",
    "\n",
    "plt.rcParams['figure.figsize']=(8,8) #rescale figures\n",
    "sc.settings.verbosity = 3\n",
    "#sc.set_figure_params(dpi=200, dpi_save=300)"
   ]
  },
  {
   "cell_type": "code",
   "execution_count": null,
   "id": "f06dcdb5-e4ab-4698-b7d1-ceaec99545c6",
   "metadata": {
    "tags": []
   },
   "outputs": [],
   "source": [
    "%%R\n",
    "# Load libraries from correct lib Paths for my environment - ignore this!\n",
    ".libPaths(.libPaths('C:\\\\Users\\\\16220\\\\AppData\\\\Local\\\\R\\\\win-library\\\\4.2'))\n",
    "\n",
    "# Load all the R libraries we will be using in the notebook\n",
    "library(scran)\n",
    "library(Seurat)\n",
    "library(RColorBrewer)\n",
    "library(slingshot)\n",
    "library(monocle)\n",
    "library(gam)\n",
    "library(ggplot2)\n",
    "library(plyr)\n",
    "library(MAST)\n",
    "library(clusterExperiment)\n",
    "library(monocle3)"
   ]
  },
  {
   "cell_type": "code",
   "execution_count": null,
   "id": "dfa513c2-1d00-4f8e-b7a1-e9ef67dfaf79",
   "metadata": {},
   "outputs": [],
   "source": [
    "cd45ra_neg= sc.read_10x_mtx(\"CD45RAneg\", prefix = \"GSE150132_aggregation_s1-5_\",cache=True)"
   ]
  },
  {
   "cell_type": "code",
   "execution_count": null,
   "id": "9e6d318c-f8ff-43b3-8855-cafa5d68dc25",
   "metadata": {},
   "outputs": [],
   "source": [
    "cd45ra_neg.obs['n_counts'] = cd45ra_neg.X.sum(1)\n",
    "cd45ra_neg.obs['log_counts'] = np.log(cd45ra_neg.obs['n_counts'])\n",
    "cd45ra_neg.obs['n_genes'] = (cd45ra_neg.X > 0).sum(1)\n",
    "cd45ra_neg.obs['log10GenesPerUMI'] = np.log10(cd45ra_neg.obs['n_genes'])/np.log10(cd45ra_neg.obs['n_counts']) #This is the complexity\n",
    "\n",
    "mt_gene_mask = [gene.startswith('MT-') for gene in cd45ra_neg.var_names]\n",
    "cd45ra_neg.obs['mt_frac'] = np.array(cd45ra_neg.X[:, mt_gene_mask].sum(1).ravel())[0]/cd45ra_neg.obs['n_counts']\n",
    "ribo_gene_mask = [gene.startswith('RPL') or gene.startswith('RPS') for gene in cd45ra_neg.var_names]\n",
    "cd45ra_neg.obs['ribo_frac'] = np.array(cd45ra_neg.X[:, ribo_gene_mask].sum(1).ravel())[0]/cd45ra_neg.obs['n_counts']\n",
    "print('Number of cells before T filter: {:d}'.format(cd45ra_neg.n_obs))\n",
    "cd45ra_neg = cd45ra_neg[np.array(cd45ra_neg[:,'CD3D'].X.A>0)|np.array(cd45ra_neg[:,'CD3E'].X.A>0)|np.array(cd45ra_neg[:,'CD3G'].X.A>0),:]\n",
    "cd45ra_neg = cd45ra_neg[np.array(cd45ra_neg[:,'CD19'].X.A==0),:]\n",
    "print('Number of cells after T filter: {:d}'.format(cd45ra_neg.n_obs))"
   ]
  },
  {
   "cell_type": "code",
   "execution_count": null,
   "id": "0dfc443c-f1f8-4b79-9dd1-a4546d1cbf42",
   "metadata": {},
   "outputs": [],
   "source": [
    "# Quality control - plot QC metrics\n",
    "t1 = sc.pl.violin(cd45ra_neg, 'n_counts', size=2, log=True, cut=0)\n",
    "t2 = sc.pl.violin(cd45ra_neg, 'mt_frac')\n",
    "t3 = sc.pl.violin(cd45ra_neg, 'ribo_frac')\n",
    "t4 = sns.distplot(cd45ra_neg.obs['log10GenesPerUMI'],bins = 60)"
   ]
  },
  {
   "cell_type": "code",
   "execution_count": null,
   "id": "b41e0d78-1620-4061-8d85-ccc30c65a115",
   "metadata": {},
   "outputs": [],
   "source": [
    "#Data quality summary plots\n",
    "p1 = sc.pl.scatter(cd45ra_neg, 'n_counts', 'n_genes', color='mt_frac')\n",
    "p2 = sc.pl.scatter(cd45ra_neg[cd45ra_neg.obs['n_counts']<10000], 'n_counts', 'n_genes', color='mt_frac')"
   ]
  },
  {
   "cell_type": "code",
   "execution_count": null,
   "id": "05b8fe99-2393-4b51-8172-5c464348dcc4",
   "metadata": {},
   "outputs": [],
   "source": [
    "#Thresholding decision: counts\n",
    "p3 = sns.distplot(cd45ra_neg.obs['n_counts'], kde=False)\n",
    "plt.show()\n",
    "\n",
    "p4 = sns.distplot(cd45ra_neg.obs['n_counts'][cd45ra_neg.obs['n_counts']<4000], kde=False, bins=60)\n",
    "plt.show()\n",
    "\n",
    "p5 = sns.distplot(cd45ra_neg.obs['n_counts'][cd45ra_neg.obs['n_counts']>10000], kde=False, bins=60)\n",
    "plt.show()"
   ]
  },
  {
   "cell_type": "code",
   "execution_count": null,
   "id": "b4e3f188-dde3-496b-9e92-3d496a5e4ab0",
   "metadata": {},
   "outputs": [],
   "source": [
    "#Thresholding decision: genes\n",
    "p6 = sns.distplot(cd45ra_neg.obs['n_genes'], kde=False, bins=60)\n",
    "plt.show()\n",
    "\n",
    "p7 = sns.distplot(cd45ra_neg.obs['n_genes'][cd45ra_neg.obs['n_genes']<1000], kde=False, bins=60)\n",
    "plt.show()"
   ]
  },
  {
   "cell_type": "code",
   "execution_count": null,
   "id": "c9c44f07-0d38-4be6-97c5-50cd8c6c543c",
   "metadata": {},
   "outputs": [],
   "source": [
    "# Filter cells according to identified QC thresholds:\n",
    "print('Total number of cells: {:d}'.format(cd45ra_neg.n_obs))\n",
    "\n",
    "sc.pp.filter_cells(cd45ra_neg, min_counts = 0)\n",
    "print('Number of cells after min count filter: {:d}'.format(cd45ra_neg.n_obs))\n",
    "\n",
    "#sc.pp.filter_cells(cd45ra_neg, max_counts = 15000)\n",
    "#print('Number of cells after max count filter: {:d}'.format(cd45ra_neg.n_obs))\n",
    "\n",
    "cd45ra_neg = cd45ra_neg[cd45ra_neg.obs['mt_frac'] < 0.2]\n",
    "print('Number of cells after MT filter: {:d}'.format(cd45ra_neg.n_obs))\n",
    "\n",
    "cd45ra_neg = cd45ra_neg[cd45ra_neg.obs['ribo_frac'] > 0.05]\n",
    "print('Number of cells after ribo filter: {:d}'.format(cd45ra_neg.n_obs))\n",
    "\n",
    "sc.pp.filter_cells(cd45ra_neg, min_genes = 200)\n",
    "print('Number of cells after gene filter: {:d}'.format(cd45ra_neg.n_obs))\n",
    "\n",
    "#cd45ra_neg = cd45ra_neg[cd45ra_neg.obs['log10GenesPerUMI'] > 0.8]\n",
    "#print('Number of cells after complexity filter: {:d}'.format(cd45ra_neg.n_obs))"
   ]
  },
  {
   "cell_type": "code",
   "execution_count": null,
   "id": "cf04db9d-1a93-4324-a6c9-e0607d0f6711",
   "metadata": {
    "tags": []
   },
   "outputs": [],
   "source": [
    "clf = doubletdetection.BoostClassifier(n_components = 50, n_top_var_genes = 3000)\n",
    "# raw_counts is a cells by genes count matrix\n",
    "labels = clf.fit(adata_group[1].X.A).predict()\n",
    "# higher means more likely to be doublet\n",
    "scores = clf.doublet_score()"
   ]
  },
  {
   "cell_type": "code",
   "execution_count": null,
   "id": "3139acc7-f99e-4c95-9f27-7b1af2392982",
   "metadata": {},
   "outputs": [],
   "source": [
    "print('Number of cells before T filter: {:d}'.format(adata_group[1].n_obs))\n",
    "adata_group[1] = adata_group[1][labels == 0]\n",
    "print('Number of cells after T filter: {:d}'.format(adata_group[1].n_obs))"
   ]
  },
  {
   "cell_type": "code",
   "execution_count": null,
   "id": "37c3b1ac-b9e2-4807-8111-958a1c975544",
   "metadata": {},
   "outputs": [],
   "source": [
    "sc.pp.filter_genes(cd45ra_neg, min_cells = 2)"
   ]
  },
  {
   "cell_type": "code",
   "execution_count": null,
   "id": "f5472b42-da94-4aab-92f2-5b09b483bbc6",
   "metadata": {},
   "outputs": [],
   "source": [
    "cd45ra_neg.obs['n_counts'] = cd45ra_neg.X.sum(1)\n",
    "cd45ra_neg.obs['log_counts'] = np.log(cd45ra_neg.obs['n_counts'])\n",
    "cd45ra_neg.obs['n_genes'] = (cd45ra_neg.X > 0).sum(1)\n",
    "cd45ra_neg.obs['log10GenesPerUMI'] = np.log10(cd45ra_neg.obs['n_genes'])/np.log10(cd45ra_neg.obs['n_counts'])\n",
    "\n",
    "mt_gene_mask = [gene.startswith('MT-') for gene in cd45ra_neg.var_names]\n",
    "cd45ra_neg.obs['mt_frac'] = np.array(cd45ra_neg.X[:, mt_gene_mask].sum(1).ravel())[0]/cd45ra_neg.obs['n_counts']\n",
    "ribo_gene_mask = [gene.startswith('RPL') or gene.startswith('RPS') for gene in cd45ra_neg.var_names]\n",
    "cd45ra_neg.obs['ribo_frac'] = np.array(cd45ra_neg.X[:, ribo_gene_mask].sum(1).ravel())[0]/cd45ra_neg.obs['n_counts']"
   ]
  },
  {
   "cell_type": "code",
   "execution_count": null,
   "id": "f86fd848-b02f-4a8c-ae51-4b8be5f69963",
   "metadata": {},
   "outputs": [],
   "source": [
    "adata_forcycle = cd45ra_neg.copy()\n",
    "sc.pp.normalize_total(adata_forcycle, key_added = 'normalization_factors')\n",
    "sc.pp.log1p(adata_forcycle)"
   ]
  },
  {
   "cell_type": "code",
   "execution_count": null,
   "id": "d9ce3ad3-00f1-44a6-9dc7-3b7650b4de82",
   "metadata": {},
   "outputs": [],
   "source": [
    "sc.pp.highly_variable_genes(adata_forcycle, flavor='seurat', n_top_genes=3000)\n",
    "print('\\n','Number of highly variable genes: {:d}'.format(np.sum(adata_forcycle.var['highly_variable'])))"
   ]
  },
  {
   "cell_type": "code",
   "execution_count": null,
   "id": "c0326444-8ff3-4461-a8ee-cf565e53fedc",
   "metadata": {
    "tags": []
   },
   "outputs": [],
   "source": [
    "sc.pp.pca(adata_forcycle, n_comps=50, use_highly_variable=True, svd_solver='arpack')\n",
    "sc.pp.neighbors(adata_forcycle, n_neighbors = 15, n_pcs = 50)"
   ]
  },
  {
   "cell_type": "code",
   "execution_count": null,
   "id": "a31d8799-5882-47c9-9393-3d6c2b7d2f99",
   "metadata": {},
   "outputs": [],
   "source": [
    "sc.tl.umap(adata_forcycle, min_dist = 0.4, spread = 1.2)"
   ]
  },
  {
   "cell_type": "markdown",
   "id": "b07291ea-22ed-4cc3-a47f-288017734a65",
   "metadata": {},
   "source": [
    "### Visualiaze different conditions, the batch effect is negligible"
   ]
  },
  {
   "cell_type": "code",
   "execution_count": null,
   "id": "99379f7c-7eff-4b5a-b08c-70a8dfcc3a9e",
   "metadata": {},
   "outputs": [],
   "source": [
    "sc.pl.umap(adata_forcycle, color='SELL')"
   ]
  },
  {
   "cell_type": "markdown",
   "id": "6df19544-f672-4f94-a2b3-06a3c6cff636",
   "metadata": {},
   "source": [
    "### Use the cell cycle gene list summarized by Triosh et al. to calculate the cc score"
   ]
  },
  {
   "cell_type": "code",
   "execution_count": null,
   "id": "0df9a7d2-27f5-4aff-8088-b3ccaa07bc39",
   "metadata": {
    "tags": []
   },
   "outputs": [],
   "source": [
    "cc_genes = pd.read_excel('Triosh_cc.xlsx')"
   ]
  },
  {
   "cell_type": "code",
   "execution_count": null,
   "id": "f65ed20d-d596-437d-bb28-e290106641d1",
   "metadata": {
    "tags": []
   },
   "outputs": [],
   "source": [
    "s_genes = cc_genes['G1/S'].dropna()\n",
    "g2m_genes = cc_genes['G2/M'].dropna()\n",
    "\n",
    "s_genes_mm_ens = adata_forcycle.var_names[np.in1d(adata_forcycle.var_names, s_genes)]\n",
    "g2m_genes_mm_ens = adata_forcycle.var_names[np.in1d(adata_forcycle.var_names, g2m_genes)]"
   ]
  },
  {
   "cell_type": "code",
   "execution_count": null,
   "id": "0f50b066-c85d-42af-9757-435e848ae9b3",
   "metadata": {
    "tags": []
   },
   "outputs": [],
   "source": [
    "sc.tl.score_genes_cell_cycle(adata_forcycle, s_genes=s_genes_mm_ens, g2m_genes=g2m_genes_mm_ens)"
   ]
  },
  {
   "cell_type": "markdown",
   "id": "f55c1c23-911d-4ebd-8fc3-e9cc3ea8eca0",
   "metadata": {},
   "source": [
    "### Visualize the cell phases of the co-cultured cells"
   ]
  },
  {
   "cell_type": "code",
   "execution_count": null,
   "id": "945a78ce-ac3a-452b-ac4f-8de1c24f0c23",
   "metadata": {},
   "outputs": [],
   "source": [
    "sc.pl.umap(adata_forcycle, color='phase',size = 8)"
   ]
  },
  {
   "cell_type": "code",
   "execution_count": null,
   "id": "1e1d15b8-6f3e-465d-af13-75b285cacf85",
   "metadata": {},
   "outputs": [],
   "source": [
    "Sscore = adata_forcycle.obs['S_score'].values.tolist()\n",
    "G2Mscore = adata_forcycle.obs['G2M_score'].values.tolist()\n",
    "S_G2M_diff = adata_forcycle.obs['S_score'] - adata_forcycle.obs['G2M_score']\n",
    "S_G2M_diff = S_G2M_diff.values.tolist()"
   ]
  },
  {
   "cell_type": "code",
   "execution_count": null,
   "id": "a74b10ce-74ba-4853-a693-72d8a2795899",
   "metadata": {},
   "outputs": [],
   "source": [
    "cd45ra_neg.uns['allgenes'] = list(cd45ra_neg.var_names)\n",
    "cd45ra_neg.obs['S_score'] = adata_forcycle.obs['S_score']\n",
    "cd45ra_neg.obs['G2M_score'] = adata_forcycle.obs['G2M_score']\n",
    "cd45ra_neg.obs['S_G2M_diff'] = cd45ra_neg.obs['S_score'] - cd45ra_neg.obs['G2M_score']\n",
    "cd45ra_neg.obs['phase'] = adata_forcycle.obs['phase']"
   ]
  },
  {
   "cell_type": "code",
   "execution_count": null,
   "id": "15d9b3a4-bb7b-4a80-a24b-daad1bb2a3f8",
   "metadata": {},
   "outputs": [],
   "source": [
    "cd45ra_neg.write('beforetrans_cd45ra_neg.h5ad')"
   ]
  },
  {
   "cell_type": "code",
   "execution_count": null,
   "id": "6f0cfddb-d5cd-4b23-9097-7afd7a6b50c8",
   "metadata": {},
   "outputs": [],
   "source": [
    "colnames = cd45ra_neg.obs_names\n",
    "rownames = cd45ra_neg.var_names\n",
    "mt_frac = cd45ra_neg.obs['mt_frac']\n",
    "S_G2M_diff = cd45ra_neg.obs['S_score'] - cd45ra_neg.obs['G2M_score']\n",
    "S_G2M_diff = S_G2M_diff.values.tolist()"
   ]
  },
  {
   "cell_type": "markdown",
   "id": "7dde2416-d95c-45cb-9436-e55ac069068a",
   "metadata": {},
   "source": [
    "### Construct the Seurat object"
   ]
  },
  {
   "cell_type": "code",
   "execution_count": null,
   "id": "0f13e838-88c3-480b-b0af-7b11fc8e2df4",
   "metadata": {},
   "outputs": [],
   "source": [
    "from sklearn.model_selection import train_test_split\n",
    "x_train, x_test = train_test_split(list(range(cd45ra_neg.shape[0])),test_size = 0.7)"
   ]
  },
  {
   "cell_type": "code",
   "execution_count": null,
   "id": "efb3d739-e56c-454c-9d04-e11ad783aa6b",
   "metadata": {},
   "outputs": [],
   "source": [
    "adata_train = cd45ra_neg[x_train,:]"
   ]
  },
  {
   "cell_type": "code",
   "execution_count": null,
   "id": "04352839-92e2-4aa6-bac6-aa1932c4e4f9",
   "metadata": {},
   "outputs": [],
   "source": [
    "colnames = adata_train .obs_names\n",
    "rownames = adata_train .var_names\n",
    "mt_frac = adata_train .obs['mt_frac']\n",
    "S_G2M_diff = adata_train .obs['S_score'] - adata_train .obs['G2M_score']\n",
    "S_G2M_diff = S_G2M_diff .values.tolist()"
   ]
  },
  {
   "cell_type": "code",
   "execution_count": null,
   "id": "80ffd88f-6073-4066-bc01-9c9857086ccc",
   "metadata": {
    "tags": []
   },
   "outputs": [],
   "source": [
    "%%R -i adata_train -i colnames -i rownames -i S_G2M_diff -i mt_frac\n",
    "counts = adata_train@assays@data$X\n",
    "colnames(counts) = colnames\n",
    "rownames(counts) = rownames"
   ]
  },
  {
   "cell_type": "code",
   "execution_count": null,
   "id": "dccd6bc4-cf8c-4afb-bad3-a160cf19a55b",
   "metadata": {},
   "outputs": [],
   "source": [
    "%%R\n",
    "srat <- CreateSeuratObject(counts = counts, project = \"RNA\", min.cells = 0, min.features = 0, assay = \"RNA\")\n",
    "srat[[\"S_G2M_diff\"]] = S_G2M_diff\n",
    "srat[[\"mt_frac\"]] = mt_frac"
   ]
  },
  {
   "cell_type": "markdown",
   "id": "4cb0e4c7-5389-4c2a-be21-d5777cbcb211",
   "metadata": {
    "tags": []
   },
   "source": [
    "### SCTransform dataset separately"
   ]
  },
  {
   "cell_type": "code",
   "execution_count": null,
   "id": "6d2d7bad-127f-49f0-80ba-93b44476337c",
   "metadata": {},
   "outputs": [],
   "source": [
    "%%R\n",
    "srat = SCTransform(object = srat, verbose = FALSE, vst.flavor = \"v2\", vars.to.regress = c(\"S_G2M_diff\",\"mt_frac\"),min_cells=0) #c(\"G2Mscore\",\"Sscore\"))"
   ]
  },
  {
   "cell_type": "code",
   "execution_count": null,
   "id": "c5d54067-8869-4268-8434-ad7fbc1c8de2",
   "metadata": {},
   "outputs": [],
   "source": [
    "%%R\n",
    "srat = RunPCA(srat, verbose = FALSE)"
   ]
  },
  {
   "cell_type": "code",
   "execution_count": null,
   "id": "0dfa61e4-5e5c-4800-ac2d-c843787b1b58",
   "metadata": {},
   "outputs": [],
   "source": [
    "%%R -o HVG -o varExplained -o PCs -o mat -o adata_transformed -o left_genes\n",
    "HVG = VariableFeatures(srat)\n",
    "\n",
    "mat <- Seurat::GetAssayData(object = srat, slot = 'scale.data')\n",
    "pca <- srat[[\"pca\"]]\n",
    "\n",
    "# Get the total variance:\n",
    "total_variance <- sum(matrixStats::rowVars(mat))\n",
    "\n",
    "eigValues = (pca@stdev)^2  ## EigenValues\n",
    "varExplained = eigValues / total_variance\n",
    "\n",
    "PCs = Loadings(srat, reduction = \"pca\")\n",
    "\n",
    "adata_transformed = as.SingleCellExperiment(srat)\n",
    "left_genes = rownames(x = srat[[\"SCT\"]])"
   ]
  },
  {
   "cell_type": "code",
   "execution_count": null,
   "id": "84632ffb-8ca5-4cbf-a7c9-938e481043ad",
   "metadata": {},
   "outputs": [],
   "source": [
    "%%R -o counts -o logcounts\n",
    "\n",
    "counts = srat[[\"SCT\"]]@counts\n",
    "logcounts = srat[[\"SCT\"]]@data"
   ]
  },
  {
   "cell_type": "code",
   "execution_count": null,
   "id": "d6471a82-05d7-45fe-a7b6-6791e14fae8e",
   "metadata": {},
   "outputs": [],
   "source": [
    "%R -o srat"
   ]
  },
  {
   "cell_type": "code",
   "execution_count": null,
   "id": "b3525a0d-1a8d-4f5d-845f-cc18088fb890",
   "metadata": {},
   "outputs": [],
   "source": [
    "import anndata\n",
    "adata = anndata.AnnData(X = logcounts.T)\n",
    "adata.var_names = left_genes\n",
    "adata.obs_names = adata_transformed.obs_names\n",
    "adata.obs = adata_train.obs\n",
    "adata.uns['scaled'] = mat.T\n",
    "adata.layers['counts'] = counts.T\n",
    "adata.layers['logcounts'] = logcounts.T\n",
    "adata.obsm['X_pca'] = adata_transformed.obsm['X_pca']"
   ]
  },
  {
   "cell_type": "code",
   "execution_count": null,
   "id": "85d3abc1-084d-423b-95bf-3b8d80118d66",
   "metadata": {},
   "outputs": [],
   "source": [
    "adata.varm['PCs'] = np.zeros([np.shape(adata.X.A)[1],50])\n",
    "for i in range(0,50):\n",
    "    genename = HVG[i]\n",
    "    adata.varm['PCs'][adata.var_names == genename,:] = PCs[i,:]"
   ]
  },
  {
   "cell_type": "code",
   "execution_count": null,
   "id": "6528553c-4785-4925-890b-3591747fcda9",
   "metadata": {},
   "outputs": [],
   "source": [
    "adata.obs['n_counts'] = adata.layers['counts'].sum(1)\n",
    "adata.obs['n_genes'] = (adata.layers['counts'] > 0).sum(1)\n",
    "adata.var['highly_variable'] = adata.var_names.isin(HVG)\n",
    "adata.obs['phase'] = adata_train.obs['phase']\n",
    "adata.uns['pca'] = dict({'variance_ratio': varExplained})"
   ]
  },
  {
   "cell_type": "code",
   "execution_count": null,
   "id": "76bd7a00-e6e5-42b9-9313-012f7d347f11",
   "metadata": {},
   "outputs": [],
   "source": [
    "mt_gene_mask = [gene.startswith('MT-') for gene in adata.var_names]\n",
    "adata.obs['mt_frac'] = np.array(adata.layers['counts'][:, mt_gene_mask].sum(1).ravel())[0]/adata.obs['n_counts']"
   ]
  },
  {
   "cell_type": "code",
   "execution_count": null,
   "id": "f3a12904-a1b6-4ef5-b753-a93c7780de9c",
   "metadata": {},
   "outputs": [],
   "source": [
    "ribo_gene_mask = [gene.startswith('RPL') or gene.startswith('RPS') for gene in adata.var_names]\n",
    "adata.obs['ribo_frac'] = np.array(adata.layers['counts'][:, ribo_gene_mask].sum(1).ravel())[0]/adata.obs['n_counts']"
   ]
  },
  {
   "cell_type": "code",
   "execution_count": null,
   "id": "9978dda1-262d-449a-9615-ea4eb15c2651",
   "metadata": {},
   "outputs": [],
   "source": [
    "sc.pp.neighbors(adata, n_pcs = 50)"
   ]
  },
  {
   "cell_type": "code",
   "execution_count": null,
   "id": "4b37ae67-e2d9-4ea7-a732-7de82e42d468",
   "metadata": {},
   "outputs": [],
   "source": [
    "adata_copy = sc.tl.leiden(adata, resolution = 0.7,copy = True)\n",
    "sc.pl.pca(adata_copy, color='leiden', legend_loc = 'on data')"
   ]
  },
  {
   "cell_type": "code",
   "execution_count": null,
   "id": "74847dc2-c16c-45a7-8543-a4ef04dd78ff",
   "metadata": {},
   "outputs": [],
   "source": [
    "adata = adata_copy"
   ]
  },
  {
   "cell_type": "code",
   "execution_count": null,
   "id": "c2248495-4d2c-4cbb-8cd2-11c9655bce27",
   "metadata": {},
   "outputs": [],
   "source": [
    "sc.tl.paga(adata, groups='leiden')\n",
    "sc.pl.paga(adata,threshold = 0.2, labels=None, fontsize = 10, fontoutline = 3,node_size_scale = 3,node_size_power = 1,random_state = 0)"
   ]
  },
  {
   "cell_type": "code",
   "execution_count": null,
   "id": "ebcaf0b8-a9bc-44ee-8b6b-0bd2c10bb861",
   "metadata": {
    "tags": []
   },
   "outputs": [],
   "source": [
    "sc.tl.umap(adata, min_dist = 0.01, spread = 2,init_pos = 'paga')"
   ]
  },
  {
   "cell_type": "code",
   "execution_count": null,
   "id": "b21643cf-c036-413c-a05e-4a0c2f344504",
   "metadata": {},
   "outputs": [],
   "source": [
    "plt.close()\n",
    "plt.rcParams['axes.linewidth'] = 2\n",
    "fig = sc.pl.umap(adata, color = ['CD8A','leiden'],size = 50, legend_loc = 'on data', palette  = my_palette, ncols = 4, cmap = my_cmap, return_fig = True, legend_fontsize = 'large')\n",
    "ax = fig.get_axes()\n",
    "for i in range(0,len(ax)):\n",
    "    ax[i].xaxis.label.set_fontsize(22)\n",
    "    ax[i].xaxis.label.set_fontweight('bold')\n",
    "    ax[i].yaxis.label.set_fontsize(22)\n",
    "    ax[i].title.set_fontsize(30)\n",
    "    ax[i].yaxis.label.set_fontweight('bold')\n",
    "    ax[i].title.set_fontweight('bold')\n",
    "#plt.savefig('overall_map_withunmatched.png')"
   ]
  },
  {
   "cell_type": "code",
   "execution_count": null,
   "id": "2175cebf-e3cf-45a6-9684-152101ed5825",
   "metadata": {},
   "outputs": [],
   "source": [
    "def print_full(x):\n",
    "    pd.set_option('display.max_rows', len(x))\n",
    "    print(x)\n",
    "    pd.reset_option('display.max_rows')"
   ]
  },
  {
   "cell_type": "code",
   "execution_count": null,
   "id": "0a67a0a5-5936-48ad-9b96-eef4b4a5af20",
   "metadata": {},
   "outputs": [],
   "source": [
    "#This pallete is for colorblinds\n",
    "my_palette = ['#0351A8','#8CB0E0','#D56D11','#FFBB78','#234E08','#53CB8B','#D30083','#CB788D','#4E195A','#C58CCF','#AA290F','#B03FD1','#E8BCCF','#64605F','#B2AD9A','#D2D30B','#D1BD4F','#06DCF2','#9EDAE5','#517219','#5B43CF','#D92F24','#FFD900','#002F33','#B8A3A3']"
   ]
  },
  {
   "cell_type": "code",
   "execution_count": null,
   "id": "731f0f48-88bb-4d88-a7d2-6a40451d7b67",
   "metadata": {},
   "outputs": [],
   "source": [
    "from matplotlib.colors import LinearSegmentedColormap\n",
    "values = [0,1]\n",
    "colors = [(227, 227, 227), (255, 42, 18)]\n",
    "norm = plt.Normalize(min(values), max(values))\n",
    "my_cmap = LinearSegmentedColormap.from_list(\n",
    "    '', [(norm(value), tuple(np.array(color) / 255)) for value, color in zip(values, colors)])"
   ]
  },
  {
   "cell_type": "code",
   "execution_count": null,
   "id": "d7a52dd5-2a0f-4bf5-81ee-624e26d7be52",
   "metadata": {},
   "outputs": [],
   "source": [
    "adata.write('GSE150132_processed.h5ad')"
   ]
  }
 ],
 "metadata": {
  "kernelspec": {
   "display_name": "Python 3 (ipykernel)",
   "language": "python",
   "name": "python3"
  },
  "language_info": {
   "codemirror_mode": {
    "name": "ipython",
    "version": 3
   },
   "file_extension": ".py",
   "mimetype": "text/x-python",
   "name": "python",
   "nbconvert_exporter": "python",
   "pygments_lexer": "ipython3",
   "version": "3.8.8"
  }
 },
 "nbformat": 4,
 "nbformat_minor": 5
}
